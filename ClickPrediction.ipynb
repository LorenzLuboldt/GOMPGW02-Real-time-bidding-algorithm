{
 "cells": [
  {
   "cell_type": "code",
   "execution_count": 1,
   "metadata": {},
   "outputs": [],
   "source": [
    "import pandas as pd\n",
    "from matplotlib import pyplot\n",
    "import matplotlib.pyplot as plt\n",
    "import numpy as np\n",
    "import random\n",
    "from operator import itemgetter\n",
    "from sklearn.preprocessing import LabelEncoder\n",
    "from sklearn.preprocessing import StandardScaler\n",
    "from sklearn.preprocessing import Imputer\n",
    "from sklearn.metrics import mean_squared_error\n",
    "from sklearn.model_selection import cross_val_score\n",
    "from sklearn.model_selection import GridSearchCV\n",
    "%matplotlib inline"
   ]
  },
  {
   "cell_type": "code",
   "execution_count": 2,
   "metadata": {},
   "outputs": [
    {
     "data": {
      "text/html": [
       "<div>\n",
       "<style scoped>\n",
       "    .dataframe tbody tr th:only-of-type {\n",
       "        vertical-align: middle;\n",
       "    }\n",
       "\n",
       "    .dataframe tbody tr th {\n",
       "        vertical-align: top;\n",
       "    }\n",
       "\n",
       "    .dataframe thead th {\n",
       "        text-align: right;\n",
       "    }\n",
       "</style>\n",
       "<table border=\"1\" class=\"dataframe\">\n",
       "  <thead>\n",
       "    <tr style=\"text-align: right;\">\n",
       "      <th></th>\n",
       "      <th>weekday</th>\n",
       "      <th>hour</th>\n",
       "      <th>region</th>\n",
       "      <th>city</th>\n",
       "      <th>adexchange</th>\n",
       "      <th>slotwidth</th>\n",
       "      <th>slotheight</th>\n",
       "      <th>slotprice</th>\n",
       "      <th>advertiser</th>\n",
       "      <th>useragent_encoded</th>\n",
       "      <th>IP_encoded</th>\n",
       "      <th>url_encoded</th>\n",
       "      <th>domain_encoded</th>\n",
       "      <th>slotid_encoded</th>\n",
       "      <th>slotvisibility_encoded</th>\n",
       "      <th>slotformat_encoded</th>\n",
       "      <th>creative_encoded</th>\n",
       "      <th>keypage_encoded</th>\n",
       "      <th>usertag_encoded</th>\n",
       "    </tr>\n",
       "  </thead>\n",
       "  <tbody>\n",
       "    <tr>\n",
       "      <th>0</th>\n",
       "      <td>5</td>\n",
       "      <td>22</td>\n",
       "      <td>2</td>\n",
       "      <td>2</td>\n",
       "      <td>2</td>\n",
       "      <td>200</td>\n",
       "      <td>200</td>\n",
       "      <td>5</td>\n",
       "      <td>3427</td>\n",
       "      <td>31</td>\n",
       "      <td>253587</td>\n",
       "      <td>268016</td>\n",
       "      <td>21783</td>\n",
       "      <td>12845</td>\n",
       "      <td>2</td>\n",
       "      <td>0</td>\n",
       "      <td>104</td>\n",
       "      <td>0</td>\n",
       "      <td>744035</td>\n",
       "    </tr>\n",
       "    <tr>\n",
       "      <th>1</th>\n",
       "      <td>1</td>\n",
       "      <td>20</td>\n",
       "      <td>238</td>\n",
       "      <td>239</td>\n",
       "      <td>1</td>\n",
       "      <td>300</td>\n",
       "      <td>250</td>\n",
       "      <td>0</td>\n",
       "      <td>2821</td>\n",
       "      <td>29</td>\n",
       "      <td>282720</td>\n",
       "      <td>145905</td>\n",
       "      <td>728</td>\n",
       "      <td>50771</td>\n",
       "      <td>6</td>\n",
       "      <td>3</td>\n",
       "      <td>9</td>\n",
       "      <td>18</td>\n",
       "      <td>744035</td>\n",
       "    </tr>\n",
       "    <tr>\n",
       "      <th>2</th>\n",
       "      <td>3</td>\n",
       "      <td>13</td>\n",
       "      <td>40</td>\n",
       "      <td>41</td>\n",
       "      <td>2</td>\n",
       "      <td>250</td>\n",
       "      <td>250</td>\n",
       "      <td>5</td>\n",
       "      <td>3427</td>\n",
       "      <td>31</td>\n",
       "      <td>469429</td>\n",
       "      <td>262017</td>\n",
       "      <td>18426</td>\n",
       "      <td>9136</td>\n",
       "      <td>2</td>\n",
       "      <td>0</td>\n",
       "      <td>92</td>\n",
       "      <td>0</td>\n",
       "      <td>188248</td>\n",
       "    </tr>\n",
       "    <tr>\n",
       "      <th>3</th>\n",
       "      <td>6</td>\n",
       "      <td>23</td>\n",
       "      <td>1</td>\n",
       "      <td>1</td>\n",
       "      <td>1</td>\n",
       "      <td>160</td>\n",
       "      <td>600</td>\n",
       "      <td>0</td>\n",
       "      <td>1458</td>\n",
       "      <td>31</td>\n",
       "      <td>107833</td>\n",
       "      <td>658015</td>\n",
       "      <td>4770</td>\n",
       "      <td>50450</td>\n",
       "      <td>2</td>\n",
       "      <td>1</td>\n",
       "      <td>111</td>\n",
       "      <td>12</td>\n",
       "      <td>706361</td>\n",
       "    </tr>\n",
       "    <tr>\n",
       "      <th>4</th>\n",
       "      <td>5</td>\n",
       "      <td>6</td>\n",
       "      <td>216</td>\n",
       "      <td>233</td>\n",
       "      <td>2</td>\n",
       "      <td>728</td>\n",
       "      <td>90</td>\n",
       "      <td>133</td>\n",
       "      <td>2259</td>\n",
       "      <td>31</td>\n",
       "      <td>342191</td>\n",
       "      <td>157670</td>\n",
       "      <td>153</td>\n",
       "      <td>1517</td>\n",
       "      <td>8</td>\n",
       "      <td>3</td>\n",
       "      <td>84</td>\n",
       "      <td>18</td>\n",
       "      <td>744035</td>\n",
       "    </tr>\n",
       "  </tbody>\n",
       "</table>\n",
       "</div>"
      ],
      "text/plain": [
       "   weekday  hour  region  city  adexchange  slotwidth  slotheight  slotprice  \\\n",
       "0        5    22       2     2           2        200         200          5   \n",
       "1        1    20     238   239           1        300         250          0   \n",
       "2        3    13      40    41           2        250         250          5   \n",
       "3        6    23       1     1           1        160         600          0   \n",
       "4        5     6     216   233           2        728          90        133   \n",
       "\n",
       "   advertiser  useragent_encoded  IP_encoded  url_encoded  domain_encoded  \\\n",
       "0        3427                 31      253587       268016           21783   \n",
       "1        2821                 29      282720       145905             728   \n",
       "2        3427                 31      469429       262017           18426   \n",
       "3        1458                 31      107833       658015            4770   \n",
       "4        2259                 31      342191       157670             153   \n",
       "\n",
       "   slotid_encoded  slotvisibility_encoded  slotformat_encoded  \\\n",
       "0           12845                       2                   0   \n",
       "1           50771                       6                   3   \n",
       "2            9136                       2                   0   \n",
       "3           50450                       2                   1   \n",
       "4            1517                       8                   3   \n",
       "\n",
       "   creative_encoded  keypage_encoded  usertag_encoded  \n",
       "0               104                0           744035  \n",
       "1                 9               18           744035  \n",
       "2                92                0           188248  \n",
       "3               111               12           706361  \n",
       "4                84               18           744035  "
      ]
     },
     "execution_count": 2,
     "metadata": {},
     "output_type": "execute_result"
    }
   ],
   "source": [
    "# Load Train data \n",
    "df_train_prepared = pd.read_pickle('df_train_prepared')\n",
    "\n",
    "train_payprice = df_train_prepared['payprice']\n",
    "train_bidprice = df_train_prepared['bidprice']\n",
    "train_click = df_train_prepared['click']\n",
    "\n",
    "df_train = df_train_prepared.drop(['click','payprice','bidprice'], axis =1)\n",
    "df_train.head()\n",
    "\n"
   ]
  },
  {
   "cell_type": "code",
   "execution_count": 3,
   "metadata": {},
   "outputs": [
    {
     "data": {
      "text/plain": [
       "array([[ 1.02735543,  1.2959677 , -1.44404095, -1.47450021, -0.07241839,\n",
       "        -1.17330636,  0.08690655, -0.58626423,  0.74759644,  0.34754529,\n",
       "        -0.02093817, -0.53713615,  1.42983954, -1.79876415, -0.03051079,\n",
       "        -0.74630917,  0.83640481, -1.64992635,  1.21503638]])"
      ]
     },
     "execution_count": 3,
     "metadata": {},
     "output_type": "execute_result"
    }
   ],
   "source": [
    "# Scale validation data for better prediction when using logistic \n",
    "standard_scaler = StandardScaler().fit(df_train)\n",
    "train_x = standard_scaler.transform(df_train)\n",
    "train_x[:1]"
   ]
  },
  {
   "cell_type": "code",
   "execution_count": 4,
   "metadata": {},
   "outputs": [
    {
     "data": {
      "text/html": [
       "<div>\n",
       "<style scoped>\n",
       "    .dataframe tbody tr th:only-of-type {\n",
       "        vertical-align: middle;\n",
       "    }\n",
       "\n",
       "    .dataframe tbody tr th {\n",
       "        vertical-align: top;\n",
       "    }\n",
       "\n",
       "    .dataframe thead th {\n",
       "        text-align: right;\n",
       "    }\n",
       "</style>\n",
       "<table border=\"1\" class=\"dataframe\">\n",
       "  <thead>\n",
       "    <tr style=\"text-align: right;\">\n",
       "      <th></th>\n",
       "      <th>weekday</th>\n",
       "      <th>hour</th>\n",
       "      <th>region</th>\n",
       "      <th>city</th>\n",
       "      <th>adexchange</th>\n",
       "      <th>slotwidth</th>\n",
       "      <th>slotheight</th>\n",
       "      <th>slotprice</th>\n",
       "      <th>advertiser</th>\n",
       "      <th>useragent_encoded</th>\n",
       "      <th>IP_encoded</th>\n",
       "      <th>url_encoded</th>\n",
       "      <th>domain_encoded</th>\n",
       "      <th>slotid_encoded</th>\n",
       "      <th>slotvisibility_encoded</th>\n",
       "      <th>slotformat_encoded</th>\n",
       "      <th>creative_encoded</th>\n",
       "      <th>keypage_encoded</th>\n",
       "      <th>usertag_encoded</th>\n",
       "    </tr>\n",
       "  </thead>\n",
       "  <tbody>\n",
       "    <tr>\n",
       "      <th>0</th>\n",
       "      <td>4</td>\n",
       "      <td>20</td>\n",
       "      <td>79</td>\n",
       "      <td>79</td>\n",
       "      <td>1</td>\n",
       "      <td>160</td>\n",
       "      <td>600</td>\n",
       "      <td>0</td>\n",
       "      <td>1458</td>\n",
       "      <td>28</td>\n",
       "      <td>137474</td>\n",
       "      <td>45239</td>\n",
       "      <td>8595</td>\n",
       "      <td>14275</td>\n",
       "      <td>2</td>\n",
       "      <td>1</td>\n",
       "      <td>109</td>\n",
       "      <td>12</td>\n",
       "      <td>110919</td>\n",
       "    </tr>\n",
       "    <tr>\n",
       "      <th>1</th>\n",
       "      <td>1</td>\n",
       "      <td>21</td>\n",
       "      <td>79</td>\n",
       "      <td>79</td>\n",
       "      <td>1</td>\n",
       "      <td>950</td>\n",
       "      <td>90</td>\n",
       "      <td>0</td>\n",
       "      <td>3476</td>\n",
       "      <td>26</td>\n",
       "      <td>178167</td>\n",
       "      <td>109524</td>\n",
       "      <td>7201</td>\n",
       "      <td>14355</td>\n",
       "      <td>0</td>\n",
       "      <td>1</td>\n",
       "      <td>108</td>\n",
       "      <td>7</td>\n",
       "      <td>69995</td>\n",
       "    </tr>\n",
       "    <tr>\n",
       "      <th>2</th>\n",
       "      <td>4</td>\n",
       "      <td>8</td>\n",
       "      <td>2</td>\n",
       "      <td>2</td>\n",
       "      <td>2</td>\n",
       "      <td>300</td>\n",
       "      <td>250</td>\n",
       "      <td>5</td>\n",
       "      <td>3358</td>\n",
       "      <td>28</td>\n",
       "      <td>52834</td>\n",
       "      <td>75356</td>\n",
       "      <td>8455</td>\n",
       "      <td>7129</td>\n",
       "      <td>2</td>\n",
       "      <td>0</td>\n",
       "      <td>99</td>\n",
       "      <td>14</td>\n",
       "      <td>108448</td>\n",
       "    </tr>\n",
       "    <tr>\n",
       "      <th>3</th>\n",
       "      <td>5</td>\n",
       "      <td>15</td>\n",
       "      <td>201</td>\n",
       "      <td>205</td>\n",
       "      <td>2</td>\n",
       "      <td>336</td>\n",
       "      <td>280</td>\n",
       "      <td>5</td>\n",
       "      <td>3358</td>\n",
       "      <td>26</td>\n",
       "      <td>192739</td>\n",
       "      <td>27901</td>\n",
       "      <td>8931</td>\n",
       "      <td>8936</td>\n",
       "      <td>2</td>\n",
       "      <td>0</td>\n",
       "      <td>116</td>\n",
       "      <td>14</td>\n",
       "      <td>109043</td>\n",
       "    </tr>\n",
       "    <tr>\n",
       "      <th>4</th>\n",
       "      <td>1</td>\n",
       "      <td>18</td>\n",
       "      <td>134</td>\n",
       "      <td>135</td>\n",
       "      <td>2</td>\n",
       "      <td>200</td>\n",
       "      <td>200</td>\n",
       "      <td>5</td>\n",
       "      <td>3476</td>\n",
       "      <td>26</td>\n",
       "      <td>55070</td>\n",
       "      <td>135142</td>\n",
       "      <td>6582</td>\n",
       "      <td>423</td>\n",
       "      <td>1</td>\n",
       "      <td>0</td>\n",
       "      <td>42</td>\n",
       "      <td>5</td>\n",
       "      <td>6344</td>\n",
       "    </tr>\n",
       "  </tbody>\n",
       "</table>\n",
       "</div>"
      ],
      "text/plain": [
       "   weekday  hour  region  city  adexchange  slotwidth  slotheight  slotprice  \\\n",
       "0        4    20      79    79           1        160         600          0   \n",
       "1        1    21      79    79           1        950          90          0   \n",
       "2        4     8       2     2           2        300         250          5   \n",
       "3        5    15     201   205           2        336         280          5   \n",
       "4        1    18     134   135           2        200         200          5   \n",
       "\n",
       "   advertiser  useragent_encoded  IP_encoded  url_encoded  domain_encoded  \\\n",
       "0        1458                 28      137474        45239            8595   \n",
       "1        3476                 26      178167       109524            7201   \n",
       "2        3358                 28       52834        75356            8455   \n",
       "3        3358                 26      192739        27901            8931   \n",
       "4        3476                 26       55070       135142            6582   \n",
       "\n",
       "   slotid_encoded  slotvisibility_encoded  slotformat_encoded  \\\n",
       "0           14275                       2                   1   \n",
       "1           14355                       0                   1   \n",
       "2            7129                       2                   0   \n",
       "3            8936                       2                   0   \n",
       "4             423                       1                   0   \n",
       "\n",
       "   creative_encoded  keypage_encoded  usertag_encoded  \n",
       "0               109               12           110919  \n",
       "1               108                7            69995  \n",
       "2                99               14           108448  \n",
       "3               116               14           109043  \n",
       "4                42                5             6344  "
      ]
     },
     "execution_count": 4,
     "metadata": {},
     "output_type": "execute_result"
    }
   ],
   "source": [
    "# Load validation data\n",
    "df_val_prepared = pd.read_pickle('df_val_prepared')\n",
    "\n",
    "val_payprice = df_val_prepared['payprice']\n",
    "val_bidprice = df_val_prepared['bidprice']\n",
    "val_click = df_val_prepared['click']\n",
    "\n",
    "df_val = df_val_prepared.drop(['click','payprice','bidprice'], axis =1)\n",
    "df_val.head()"
   ]
  },
  {
   "cell_type": "code",
   "execution_count": 5,
   "metadata": {},
   "outputs": [
    {
     "data": {
      "text/plain": [
       "array([[ 0.54310061,  0.98980048, -0.68871428, -0.72819482, -1.16598138,\n",
       "        -1.30074929,  3.12709522, -0.72222819, -1.75178669,  0.35195772,\n",
       "         0.67377474, -0.60695559,  1.33457283,  0.58957062, -0.02894579,\n",
       "         0.11112068,  1.01082565,  0.28468824,  1.09400445]])"
      ]
     },
     "execution_count": 5,
     "metadata": {},
     "output_type": "execute_result"
    }
   ],
   "source": [
    "# Scale validation data for better prediction when using logistic \n",
    "standard_scaler = StandardScaler().fit(df_val)\n",
    "test_x = standard_scaler.transform(df_val)\n",
    "test_x[:1]"
   ]
  },
  {
   "cell_type": "code",
   "execution_count": 6,
   "metadata": {},
   "outputs": [
    {
     "data": {
      "text/plain": [
       "1"
      ]
     },
     "execution_count": 6,
     "metadata": {},
     "output_type": "execute_result"
    }
   ],
   "source": [
    "val_click[891]"
   ]
  },
  {
   "cell_type": "markdown",
   "metadata": {},
   "source": [
    "### Average CTR for Validation"
   ]
  },
  {
   "cell_type": "code",
   "execution_count": 7,
   "metadata": {},
   "outputs": [
    {
     "data": {
      "text/plain": [
       "0.00066"
      ]
     },
     "execution_count": 7,
     "metadata": {},
     "output_type": "execute_result"
    }
   ],
   "source": [
    "val_click_1 = df_val_prepared[df_val_prepared['click'] == 1]\n",
    "val_AvgCTR =  float(\"{0:.5f}\".format(len(val_click_1)/len(df_val_prepared['click'])))\n",
    "val_AvgCTR "
   ]
  },
  {
   "cell_type": "markdown",
   "metadata": {},
   "source": [
    "### Logistic Regression to Predict Probability of Click or Not Click"
   ]
  },
  {
   "cell_type": "raw",
   "metadata": {},
   "source": [
    "It predicts all the non click correct but not the click, \n",
    "because data is very skewed to non click\n",
    "Can we use this a pCTR for Linear Bidding? \n"
   ]
  },
  {
   "cell_type": "code",
   "execution_count": 8,
   "metadata": {},
   "outputs": [
    {
     "ename": "NameError",
     "evalue": "name 'log_click' is not defined",
     "output_type": "error",
     "traceback": [
      "\u001b[0;31m---------------------------------------------------------------------------\u001b[0m",
      "\u001b[0;31mNameError\u001b[0m                                 Traceback (most recent call last)",
      "\u001b[0;32m<ipython-input-8-58fc95fb16aa>\u001b[0m in \u001b[0;36m<module>\u001b[0;34m()\u001b[0m\n\u001b[1;32m     12\u001b[0m \u001b[0mlog1_pred\u001b[0m \u001b[0;34m=\u001b[0m \u001b[0mnp\u001b[0m\u001b[0;34m.\u001b[0m\u001b[0mwhere\u001b[0m\u001b[0;34m(\u001b[0m\u001b[0mdf_log1\u001b[0m\u001b[0;34m[\u001b[0m\u001b[0;34m'probability_1_click'\u001b[0m\u001b[0;34m]\u001b[0m \u001b[0;34m<=\u001b[0m \u001b[0;36m0.00058\u001b[0m\u001b[0;34m,\u001b[0m\u001b[0;36m1\u001b[0m\u001b[0;34m,\u001b[0m\u001b[0;36m0\u001b[0m\u001b[0;34m)\u001b[0m\u001b[0;34m\u001b[0m\u001b[0m\n\u001b[1;32m     13\u001b[0m \u001b[0;34m\u001b[0m\u001b[0m\n\u001b[0;32m---> 14\u001b[0;31m \u001b[0mlog1_error\u001b[0m \u001b[0;34m=\u001b[0m \u001b[0msum\u001b[0m\u001b[0;34m(\u001b[0m\u001b[0mlog_click\u001b[0m \u001b[0;34m!=\u001b[0m \u001b[0mval_click\u001b[0m\u001b[0;34m)\u001b[0m\u001b[0;34m\u001b[0m\u001b[0m\n\u001b[0m\u001b[1;32m     15\u001b[0m \u001b[0mlog1_correct\u001b[0m \u001b[0;34m=\u001b[0m \u001b[0msum\u001b[0m\u001b[0;34m(\u001b[0m\u001b[0mlog_click\u001b[0m \u001b[0;34m==\u001b[0m \u001b[0mval_click\u001b[0m\u001b[0;34m)\u001b[0m\u001b[0;34m\u001b[0m\u001b[0m\n\u001b[1;32m     16\u001b[0m \u001b[0mprint\u001b[0m\u001b[0;34m(\u001b[0m\u001b[0;34m'Errors from logistic:'\u001b[0m \u001b[0;34m,\u001b[0m\u001b[0merrors\u001b[0m\u001b[0;34m)\u001b[0m\u001b[0;34m\u001b[0m\u001b[0m\n",
      "\u001b[0;31mNameError\u001b[0m: name 'log_click' is not defined"
     ]
    }
   ],
   "source": [
    "from sklearn import linear_model\n",
    "from sklearn.linear_model import LogisticRegression \n",
    "from sklearn.metrics import confusion_matrix \n",
    " \n",
    "log_reg = LogisticRegression(C = 100000, class_weight='balanced',random_state = 0)\n",
    "clf1 = linear_model.LogisticRegression()\n",
    "clf1.fit(train_x, train_click)\n",
    "log1_prob = clf1.predict_proba(test_x)\n",
    "\n",
    "# Add threshold D = 0.0007\n",
    "df_log1 = pd.DataFrame(columns=['probability_0_click','probability_1_click'], data = log1_prob)\n",
    "log1_pred = np.where(df_log1['probability_1_click'] <= 0.00058,1,0)\n",
    "\n",
    "log1_error = sum(log_click != val_click) \n",
    "log1_correct = sum(log_click == val_click) \n",
    "print('Errors from logistic:' ,errors)\n",
    "\n",
    "confusion_matrix(val_click, log1_pred)"
   ]
  },
  {
   "cell_type": "markdown",
   "metadata": {},
   "source": [
    "### LOGISTIC PREDICTION USING UNDER SAMPLING \n",
    "\n",
    "- Data is way too imblance only very little of click -> large prediction error\n",
    "- Solution: UNDER SAMPLE\n",
    "- Balance the click and non click -> improve the prediction for click or non click\n",
    " "
   ]
  },
  {
   "cell_type": "code",
   "execution_count": null,
   "metadata": {},
   "outputs": [],
   "source": [
    "from imblearn.under_sampling import RandomUnderSampler\n",
    "\n",
    "mean_class_size = int(pd.Series(train_click).value_counts().sum()/1500)\n",
    "mean_class_size\n",
    "\n",
    "ratio = {0: mean_class_size,\n",
    "         1: mean_class_size}\n",
    "\n",
    "rus = RandomUnderSampler (ratio = ratio, random_state = 0)\n",
    "rus\n",
    "\n",
    "train_x_rus, train_y_rus = rus.fit_sample(train_x, train_click)"
   ]
  },
  {
   "cell_type": "code",
   "execution_count": null,
   "metadata": {},
   "outputs": [],
   "source": [
    "log_reg = LogisticRegression()\n",
    "clf2 = linear_model.LogisticRegression()\n",
    "clf2.fit(train_x_rus, train_y_rus)\n",
    "\n",
    "log2_prob  = clf2.predict_proba(test_x)\n",
    "log2_pred = clf2.predict(test_x)\n",
    "\n",
    "log2_error = sum(log2_pred!= val_click) \n",
    "log2_correct = sum(log_click == val_click) \n",
    "print('Errors from Logistic with Under Sample:', log2_errors)\n",
    "\n",
    "confusion_matrix(val_click,log2_pred)\n"
   ]
  },
  {
   "cell_type": "code",
   "execution_count": null,
   "metadata": {},
   "outputs": [],
   "source": [
    "df_log2 = pd.DataFrame(columns=['probability_0_click','probability_1_click'], data = log2_prob)\n",
    "df_log2['click_or_noclick'] = log2_pred\n",
    "df_logistic[840:845]"
   ]
  },
  {
   "cell_type": "code",
   "execution_count": null,
   "metadata": {},
   "outputs": [],
   "source": [
    "# We can use the probability as pCTR per row \n",
    "# or we can calculate pCRT from this prediction \n",
    "click_log2 = len(df_log2[df_log2['click_or_noclick'] == 1])\n",
    "\n",
    "pCTR_log = click_log2/ len(df_log2)\n",
    "pCTR_log"
   ]
  },
  {
   "cell_type": "markdown",
   "metadata": {},
   "source": [
    "### RANDOM FOREST\n",
    "\n",
    "Random Forest produce slightly better prediction"
   ]
  },
  {
   "cell_type": "code",
   "execution_count": null,
   "metadata": {},
   "outputs": [],
   "source": [
    "from sklearn.tree import DecisionTreeClassifier\n",
    "\n",
    "tree_clf = DecisionTreeClassifier(max_depth=2)\n",
    "tree_clf.fit(train_x_rus, train_y_rus)"
   ]
  },
  {
   "cell_type": "code",
   "execution_count": null,
   "metadata": {},
   "outputs": [],
   "source": [
    "tree_pred = tree_clf.predict(test_x)\n",
    "tree_prob = tree_clf.predict_proba(test_x)\n",
    "\n",
    "tree_error = sum(tree_pred != val_click) \n",
    "tree_correct = sum(tree_pred == val_click) \n",
    "print('Errors from Decision Tree with Under Sample:', tree_errors)\n",
    "\n",
    "confusion_matrix(val_click, tree_pred)"
   ]
  },
  {
   "cell_type": "code",
   "execution_count": null,
   "metadata": {},
   "outputs": [],
   "source": [
    "# Put in df\n",
    "df_tree_predicted = pd.DataFrame(columns=['probability_0_click','probability_1_click'], data = tree_prob)\n",
    "\n",
    "df_tree_predicted['click_or_noclick'] = tree_pred \n",
    "df_tree_predicted.to_pickle('df_tree_prediction')\n",
    "df_tree_predicted[840:845]"
   ]
  },
  {
   "cell_type": "code",
   "execution_count": null,
   "metadata": {},
   "outputs": [],
   "source": [
    "# We can use the probability as pCTR per row \n",
    "# or we can calculate pCRT from this prediction \n",
    "\n",
    "click1_tree = len(df_tree[df_tree['click_or_noclick'] == 1])\n",
    "pCTR_tree = click1_tree/ len(df_tree)\n",
    "pCTR_tree"
   ]
  },
  {
   "cell_type": "code",
   "execution_count": null,
   "metadata": {},
   "outputs": [],
   "source": [
    "# Mean square error for three models\n",
    "#log1_rmse = np.sqrt(mean_squared_error(val_click, log1_pred))\n",
    "\n",
    "log1_rmse = float(\"{0:.2f}\".format(np.sqrt(mean_squared_error(val_click, log1_pred))))\n",
    "log2_rmse = float(\"{0:.2f}\".format(np.sqrt(mean_squared_error(val_click, log2_pred))))\n",
    "tree_rmse = float(\"{0:.2f}\".format(np.sqrt(mean_squared_error(val_click, tree_pred))))\n",
    "\n",
    "\n",
    "model_errors = {'Logistic Regression': [log1_rmse, log1_error, log1_correct] , 'Logistic with Under Sample': [log2_rmse, log2_error, log2_correct], 'Decision Tree': [tree_rmse,tree_errors, tree_correct]}\n",
    "labels = ['RMSE', 'Misclassified', 'Correct Classified']\n",
    "\n",
    "df_error = pd.DataFrame(model_errors, index = labels)\n",
    "df_error\n",
    "\n"
   ]
  },
  {
   "cell_type": "markdown",
   "metadata": {},
   "source": [
    "### Linear Bidding "
   ]
  },
  {
   "cell_type": "markdown",
   "metadata": {},
   "source": [
    "basebid * pCRT/averageCTR \n",
    "\n",
    "pCTR = probability of click from Decision Tree Model "
   ]
  },
  {
   "cell_type": "code",
   "execution_count": null,
   "metadata": {},
   "outputs": [],
   "source": [
    "# Standard Deviation of Bid Price \n",
    "\n",
    "std = np.std(val_bidprice)/1000\n",
    "std \n",
    "\n",
    "base= val_bidprice.mean()/1000 + (2*std )\n",
    "base = float(\"{0:.2f}\".format(base))\n",
    "base "
   ]
  },
  {
   "cell_type": "code",
   "execution_count": null,
   "metadata": {},
   "outputs": [],
   "source": [
    "df_tree_predicted"
   ]
  },
  {
   "cell_type": "code",
   "execution_count": null,
   "metadata": {},
   "outputs": [],
   "source": []
  }
 ],
 "metadata": {
  "kernelspec": {
   "display_name": "Python 3",
   "language": "python",
   "name": "python3"
  },
  "language_info": {
   "codemirror_mode": {
    "name": "ipython",
    "version": 3
   },
   "file_extension": ".py",
   "mimetype": "text/x-python",
   "name": "python",
   "nbconvert_exporter": "python",
   "pygments_lexer": "ipython3",
   "version": "3.6.4"
  }
 },
 "nbformat": 4,
 "nbformat_minor": 2
}
