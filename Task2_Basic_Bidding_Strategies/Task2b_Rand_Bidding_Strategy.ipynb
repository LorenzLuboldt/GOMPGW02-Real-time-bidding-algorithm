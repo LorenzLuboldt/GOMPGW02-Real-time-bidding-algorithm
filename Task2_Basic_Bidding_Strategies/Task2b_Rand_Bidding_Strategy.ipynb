{
 "cells": [
  {
   "cell_type": "markdown",
   "metadata": {},
   "source": [
    "## Random bidding strategy 1: max/min CPM as bid price boundaries"
   ]
  },
  {
   "cell_type": "code",
   "execution_count": 7,
   "metadata": {},
   "outputs": [],
   "source": [
    "#Import Libraries\n",
    "import pandas as pd\n",
    "import numpy as np\n",
    "import matplotlib.pyplot as mp\n",
    "import random\n",
    "\n",
    "#Import validation and testing data sets\n",
    "rtb_train = pd.read_csv(\"train.csv\")\n",
    "rtb_validation = pd.read_csv(\"validation.csv\")"
   ]
  },
  {
   "cell_type": "code",
   "execution_count": 17,
   "metadata": {},
   "outputs": [
    {
     "ename": "SyntaxError",
     "evalue": "invalid syntax (<ipython-input-17-6186c26d7fea>, line 4)",
     "output_type": "error",
     "traceback": [
      "\u001b[1;36m  File \u001b[1;32m\"<ipython-input-17-6186c26d7fea>\"\u001b[1;36m, line \u001b[1;32m4\u001b[0m\n\u001b[1;33m    randint(minPrice,maxPrice)\u001b[0m\n\u001b[1;37m          ^\u001b[0m\n\u001b[1;31mSyntaxError\u001b[0m\u001b[1;31m:\u001b[0m invalid syntax\n"
     ]
    }
   ],
   "source": [
    "from random import *\n",
    "maxPrice = (rtb_train.loc[:,\"bidprice\"].max())\n",
    "minPrice = (rtb_train.loc[:,\"bidprice\"].min()\n",
    "randint(minPrice,maxPrice)\n",
    "print(randint(minPrice,maxPrice))\n",
    "import random\n",
    "for x in range(10):\n",
    "  print(random.randint(1,101))"
   ]
  },
  {
   "cell_type": "code",
   "execution_count": 6,
   "metadata": {},
   "outputs": [
    {
     "ename": "NameError",
     "evalue": "name 'rtb_train' is not defined",
     "output_type": "error",
     "traceback": [
      "\u001b[1;31m---------------------------------------------------------------------------\u001b[0m",
      "\u001b[1;31mNameError\u001b[0m                                 Traceback (most recent call last)",
      "\u001b[1;32m<ipython-input-6-958cfc2af4a2>\u001b[0m in \u001b[0;36m<module>\u001b[1;34m()\u001b[0m\n\u001b[0;32m      3\u001b[0m \u001b[0mimpressions\u001b[0m \u001b[1;33m=\u001b[0m \u001b[1;36m0\u001b[0m\u001b[1;33m\u001b[0m\u001b[0m\n\u001b[0;32m      4\u001b[0m \u001b[0mclicks\u001b[0m \u001b[1;33m=\u001b[0m \u001b[1;36m0\u001b[0m\u001b[1;33m\u001b[0m\u001b[0m\n\u001b[1;32m----> 5\u001b[1;33m \u001b[0mbidPrice\u001b[0m \u001b[1;33m=\u001b[0m \u001b[1;33m(\u001b[0m\u001b[0mrtb_train\u001b[0m\u001b[1;33m.\u001b[0m\u001b[0mloc\u001b[0m\u001b[1;33m[\u001b[0m\u001b[1;33m:\u001b[0m\u001b[1;33m,\u001b[0m\u001b[1;34m\"bidprice\"\u001b[0m\u001b[1;33m]\u001b[0m\u001b[1;33m.\u001b[0m\u001b[0mmax\u001b[0m\u001b[1;33m(\u001b[0m\u001b[1;33m)\u001b[0m\u001b[1;33m/\u001b[0m\u001b[1;36m1000\u001b[0m\u001b[1;33m)\u001b[0m\u001b[1;33m\u001b[0m\u001b[0m\n\u001b[0m\u001b[0;32m      6\u001b[0m \u001b[1;33m\u001b[0m\u001b[0m\n\u001b[0;32m      7\u001b[0m \u001b[1;32mfor\u001b[0m \u001b[0mi\u001b[0m \u001b[1;32min\u001b[0m \u001b[0mrange\u001b[0m\u001b[1;33m(\u001b[0m\u001b[1;36m0\u001b[0m\u001b[1;33m,\u001b[0m\u001b[0mlen\u001b[0m\u001b[1;33m(\u001b[0m\u001b[0mrtb_validation\u001b[0m\u001b[1;33m)\u001b[0m\u001b[1;33m)\u001b[0m\u001b[1;33m:\u001b[0m\u001b[1;33m\u001b[0m\u001b[0m\n",
      "\u001b[1;31mNameError\u001b[0m: name 'rtb_train' is not defined"
     ]
    }
   ],
   "source": [
    "budget = 6250\n",
    "bids = 0\n",
    "impressions = 0\n",
    "clicks = 0\n",
    "maxPrice = (rtb_train.loc[:,\"bidprice\"].max()/1000)\n",
    "minPrice = (rtb_train.loc[:,\"bidprice\"].min()/1000)\n",
    "bidPrice = random.randint(maxPrice,minPrice)\n",
    "print(bidPrice)\n",
    "\n",
    "for i in range(0,len(rtb_validation)):\n",
    "    if budget > 0 and budget > (rtb_validation['payprice'].values[i]/1000):\n",
    "        if bidPrice > (rtb_validation['bidprice'].values[i]/1000):\n",
    "            impressions += 1\n",
    "            bids += 1\n",
    "            clicks += rtb_validation['click'].values[i]\n",
    "            budget = budget - (rtb_validation['payprice'].values[i]/1000)\n",
    "    else: \n",
    "        print(\"Budget is already spent!\")\n",
    "        break\n",
    "        \n",
    "ctr = clicks/impressions\n",
    "print(\"Number of Bids:\",bids)\n",
    "print(\"Number of Impressions:\",impressions)\n",
    "print(\"Number of Clicks:\", clicks)\n",
    "print(\"CTR is:\",ctr)"
   ]
  },
  {
   "cell_type": "code",
   "execution_count": null,
   "metadata": {},
   "outputs": [],
   "source": []
  }
 ],
 "metadata": {
  "kernelspec": {
   "display_name": "Python 3",
   "language": "python",
   "name": "python3"
  },
  "language_info": {
   "codemirror_mode": {
    "name": "ipython",
    "version": 3
   },
   "file_extension": ".py",
   "mimetype": "text/x-python",
   "name": "python",
   "nbconvert_exporter": "python",
   "pygments_lexer": "ipython3",
   "version": "3.6.4"
  }
 },
 "nbformat": 4,
 "nbformat_minor": 2
}
