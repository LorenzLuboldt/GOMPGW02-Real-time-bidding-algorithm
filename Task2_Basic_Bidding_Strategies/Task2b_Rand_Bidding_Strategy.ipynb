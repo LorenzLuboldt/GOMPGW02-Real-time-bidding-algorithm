{
 "cells": [
  {
   "cell_type": "markdown",
   "metadata": {},
   "source": [
    "## Random bidding strategy 1: max/min CPM as bid price boundaries"
   ]
  },
  {
   "cell_type": "code",
   "execution_count": 1,
   "metadata": {
    "scrolled": true
   },
   "outputs": [],
   "source": [
    "#Import Libraries\n",
    "import pandas as pd\n",
    "import numpy as np\n",
    "import matplotlib.pyplot as mp\n",
    "import random\n",
    "\n",
    "#Import validation and testing data sets\n",
    "rtb_train = pd.read_csv(\"train.csv\")\n",
    "rtb_validation = pd.read_csv(\"validation.csv\")"
   ]
  },
  {
   "cell_type": "code",
   "execution_count": 4,
   "metadata": {},
   "outputs": [
    {
     "name": "stdout",
     "output_type": "stream",
     "text": [
      "Budget is already spent!\n",
      "Output\n",
      "Number of Bids: 78123\n",
      "Number of Impressions: 78123\n",
      "Number of Clicks: 46\n",
      "CTR is: 0.05888150736658858 %\n",
      "CPM is: 0.08000204805243014\n",
      "CPC is: 135.8695652173913\n"
     ]
    }
   ],
   "source": [
    "budget = 6250\n",
    "bids = 0\n",
    "impressions = 0\n",
    "clicks = 0\n",
    "#Create bpundary values for random bid price range\n",
    "maxPrice = (rtb_train.loc[:,\"bidprice\"].max())\n",
    "minPrice = (rtb_train.loc[:,\"bidprice\"].min())\n",
    "\n",
    "#Creates an array of random bid prices in the boundaries declared above\n",
    "randomBids = []\n",
    "for i in range(0,len(rtb_validation)):\n",
    "    bid = random.randrange(minPrice,maxPrice,1)\n",
    "    randomBids.append(bid) \n",
    "    \n",
    "rtb_validation['random_bids'] = randomBids\n",
    "    \n",
    "#Loops through all the data and bids for an impression if bid price exceeds pay price\n",
    "for i in range(0,len(rtb_validation)):\n",
    "    if budget > 0 and budget > (rtb_validation['payprice'].values[i]/1000):\n",
    "        if rtb_validation['random_bids'].values[i] > (rtb_validation['bidprice'].values[i]):\n",
    "            impressions += 1\n",
    "            bids += 1\n",
    "            clicks += rtb_validation['click'].values[i]\n",
    "            budget = budget - (rtb_validation['payprice'].values[i]/1000)\n",
    "    else: \n",
    "        print(\"Budget is already spent!\")\n",
    "        break\n",
    "\n",
    "ctr = (clicks/impressions)*100\n",
    "cpm = 6250/impressions\n",
    "cpc = 6250/clicks\n",
    "#Output for the alrogithm\n",
    "print(\"Output\")\n",
    "print(\"Number of Bids:\",bids)\n",
    "print(\"Number of Impressions:\",impressions)\n",
    "print(\"Number of Clicks:\", clicks)\n",
    "print(\"CTR is:\",ctr, \"%\")\n",
    "print(\"CPM is:\",cpm)\n",
    "print(\"CPC is:\",cpc)"
   ]
  },
  {
   "cell_type": "code",
   "execution_count": null,
   "metadata": {},
   "outputs": [],
   "source": []
  }
 ],
 "metadata": {
  "kernelspec": {
   "display_name": "Python 3",
   "language": "python",
   "name": "python3"
  },
  "language_info": {
   "codemirror_mode": {
    "name": "ipython",
    "version": 3
   },
   "file_extension": ".py",
   "mimetype": "text/x-python",
   "name": "python",
   "nbconvert_exporter": "python",
   "pygments_lexer": "ipython3",
   "version": "3.6.4"
  }
 },
 "nbformat": 4,
 "nbformat_minor": 2
}
