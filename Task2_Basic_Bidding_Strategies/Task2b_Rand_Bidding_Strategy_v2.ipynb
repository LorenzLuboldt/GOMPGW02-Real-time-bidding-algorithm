{
 "cells": [
  {
   "cell_type": "markdown",
   "metadata": {},
   "source": [
    "## Random bidding strategy 2: standard dev. ranges as bid price boundaries"
   ]
  },
  {
   "cell_type": "code",
   "execution_count": 3,
   "metadata": {},
   "outputs": [],
   "source": [
    "#Import Libraries\n",
    "import pandas as pd\n",
    "import numpy as np\n",
    "import matplotlib.pyplot as mp\n",
    "import random\n",
    "\n",
    "#Import validation and testing data sets\n",
    "rtb_train = pd.read_csv(\"train.csv\")\n",
    "rtb_train_cropped = rtb_train[['payprice','click','bidprice']]\n",
    "rtb_validation = pd.read_csv(\"validation.csv\")\n",
    "rtb_validation_cropped = rtb_validation[['payprice','click']]"
   ]
  },
  {
   "cell_type": "code",
   "execution_count": 4,
   "metadata": {},
   "outputs": [
    {
     "name": "stdout",
     "output_type": "stream",
     "text": [
      "78.23400509994242\n",
      "60.026062850969545\n"
     ]
    }
   ],
   "source": [
    "#Determine bid prices boundaries with Standard deviation intervalls\n",
    "meanPayPrice = rtb_validation_cropped['payprice'].mean()\n",
    "payPriceStd = rtb_validation_cropped['payprice'].std()\n",
    "print(meanPayPrice)\n",
    "print(payPriceStd)\n",
    "maxPrice = (rtb_train_cropped.loc[:,\"payprice\"].max())\n",
    "minPrice = (rtb_train_cropped.loc[:,\"payprice\"].min())\n"
   ]
  },
  {
   "cell_type": "code",
   "execution_count": 5,
   "metadata": {},
   "outputs": [
    {
     "ename": "ZeroDivisionError",
     "evalue": "division by zero",
     "output_type": "error",
     "traceback": [
      "\u001b[1;31m----------------------------------------------------------------\u001b[0m",
      "\u001b[1;31mZeroDivisionError\u001b[0m              Traceback (most recent call last)",
      "\u001b[1;32m<ipython-input-5-1acf9d3e8629>\u001b[0m in \u001b[0;36m<module>\u001b[1;34m()\u001b[0m\n\u001b[0;32m     44\u001b[0m     \u001b[0mctr\u001b[0m \u001b[1;33m=\u001b[0m \u001b[1;33m(\u001b[0m\u001b[0mclicks\u001b[0m\u001b[1;33m/\u001b[0m\u001b[0mimpressions\u001b[0m\u001b[1;33m)\u001b[0m\u001b[1;33m*\u001b[0m\u001b[1;36m100\u001b[0m\u001b[1;33m\u001b[0m\u001b[0m\n\u001b[0;32m     45\u001b[0m     \u001b[0mcpm\u001b[0m \u001b[1;33m=\u001b[0m \u001b[1;36m6250\u001b[0m\u001b[1;33m/\u001b[0m\u001b[0mimpressions\u001b[0m\u001b[1;33m\u001b[0m\u001b[0m\n\u001b[1;32m---> 46\u001b[1;33m     \u001b[0mcpc\u001b[0m \u001b[1;33m=\u001b[0m \u001b[1;36m6250\u001b[0m\u001b[1;33m/\u001b[0m\u001b[0mclicks\u001b[0m\u001b[1;33m\u001b[0m\u001b[0m\n\u001b[0m\u001b[0;32m     47\u001b[0m         \u001b[1;31m#Output for the alrogithm\u001b[0m\u001b[1;33m\u001b[0m\u001b[1;33m\u001b[0m\u001b[0m\n\u001b[0;32m     48\u001b[0m     \u001b[0mprint\u001b[0m\u001b[1;33m(\u001b[0m\u001b[1;34m\"Output\"\u001b[0m\u001b[1;33m)\u001b[0m\u001b[1;33m\u001b[0m\u001b[0m\n",
      "\u001b[1;31mZeroDivisionError\u001b[0m: division by zero"
     ]
    }
   ],
   "source": [
    "constantPrice = 0\n",
    "bidPriceList = []\n",
    "count = 0\n",
    "\n",
    "#Determine upper bid price boundaries for the constant bid range\n",
    "while (count < ((maxPrice-minPrice)/10)):\n",
    "    constantPrice +=10\n",
    "    bidPriceList.append(constantPrice)\n",
    "    count = count +1\n",
    "    \n",
    "numberBids = []\n",
    "wonBids = []\n",
    "CTR = [] \n",
    "numberClicks = [] \n",
    "CPC = [] \n",
    "CPM = []\n",
    "eCPC = []\n",
    "\n",
    "#Repeating bidding in validation set j times\n",
    "for j in range (0,len(bidPriceList)):\n",
    "    budget = 6250\n",
    "    bids = 0\n",
    "    impressions = 0\n",
    "    clicks = 0\n",
    "    \n",
    "    #Creates an array of random bid prices in the boundaries declared above\n",
    "    randomBids = []\n",
    "    for i in range(0,len(rtb_validation)):\n",
    "        bid = random.randrange(minPrice,bidPriceList[j],1)\n",
    "        randomBids.append(bid)\n",
    "    \n",
    "    rtb_validation['random_bids'] = randomBids\n",
    "    \n",
    "    for i in range(0,len(rtb_validation_cropped)):\n",
    "        if budget > 0 and budget > (rtb_validation_cropped['payprice'].values[i]/1000):\n",
    "            impressions += 1\n",
    "            if (rtb_validation['random_bids'].values[i]/1000) > (rtb_validation_cropped['payprice'].values[i]/1000):\n",
    "                bids += 1\n",
    "                clicks += rtb_validation_cropped['click'].values[i]\n",
    "                budget = budget - (rtb_validation_cropped['payprice'].values[i]/1000)\n",
    "        else: \n",
    "            print(\"Budget is spent!\")\n",
    "            break\n",
    "    ctr = (clicks/impressions)*100    \n",
    "    cpm = 6250/impressions\n",
    "    cpc = 6250/clicks\n",
    "        #Output for the alrogithm\n",
    "    print(\"Output\")\n",
    "    print(bidPriceList[j])\n",
    "    numberBids.append(impressions)\n",
    "    print(numberBids)\n",
    "    wonBids.append(bids)\n",
    "    print(wonBids)\n",
    "    CTR.append(ctr)\n",
    "    print(CTR)\n",
    "    numberClicks.append(clicks)\n",
    "    print(numberClicks)\n",
    "    CPC.append(cpc)\n",
    "    print(CPC)\n",
    "    CPM.append(cpm)\n",
    "    print(CPM)"
   ]
  },
  {
   "cell_type": "code",
   "execution_count": null,
   "metadata": {},
   "outputs": [],
   "source": [
    "#Store summary statistics in a dataframe and plot graphs for each of them\n",
    "summaryStatistics = pd.DataFrame({\n",
    "    'bidPrice': bidPriceList,\n",
    "    'numberBids': numberBids,\n",
    "    'wonBids': wonBids,\n",
    "    'CTR': CTR,\n",
    "    'Clicks': numberClicks,\n",
    "    'eCPC': CPC, \n",
    "    'CPM': CPM,\n",
    "})\n",
    "print(summaryStatistics)"
   ]
  },
  {
   "cell_type": "code",
   "execution_count": null,
   "metadata": {},
   "outputs": [],
   "source": [
    "summaryStatistics.plot(x='bidPrice', y='numberBids', style='o'); summaryStatistics.plot(x='bidPrice', y='wonBids', style='o')\n",
    "summaryStatistics.plot(x='bidPrice', y='CTR', style='o')\n",
    "summaryStatistics.plot(x='bidPrice', y='Clicks', style='o')\n",
    "summaryStatistics.plot(x='bidPrice', y='eCPC', style='o')\n",
    "summaryStatistics.plot(x='bidPrice', y='CPM', style='o')"
   ]
  },
  {
   "cell_type": "code",
   "execution_count": null,
   "metadata": {},
   "outputs": [],
   "source": [
    "# VALIDATION SET - Budget of 6250\n",
    "# plt.figure()\n",
    "fig, axes = plt.subplots(nrows= 2, ncols = 3, figsize=(12,7) )\n",
    "\n",
    "\n",
    "#Clicks - 1\n",
    "ax1= summaryStatistics.plot(ax=axes[0,0],x='Constant bid price', y='Clicks',color ='red', alpha = 0.8)\n",
    "ax1.set_ylabel('# of Clicks')\n",
    "ax1.set_xlabel('Constant Bid Price [Fen]')\n",
    "ax1.set_xticks(np.arange(0,305,50))\n",
    "ax1.set_yticks(np.arange(0,100,10))\n",
    "ax1.set_ylim(top=80)\n",
    "# ymax = summaryStatistics['Clicks'].max()\n",
    "# xpos = numberClicks.index(ymax)\n",
    "# xmax = summaryStatistics.iloc[xpos]['Constant bid price']\n",
    "# ax1.annotate('local max', xy=(80,68), xytext=(80,73),\n",
    "# arrowprops=dict(facecolor='black', shrink=0.05),)\n",
    "\n",
    "#Impressions won - 2\n",
    "ax2= summaryStatistics.plot(ax=axes[0,1],x='Constant bid price', y='CPM',color ='red', alpha = 0.8)\n",
    "ax2.set_ylabel('CPM [Fen]')\n",
    "ax2.set_xlabel('Constant Bid Price [Fen]')\n",
    "ax2.set_xticks(np.arange(0,305,50))\n",
    "ax2.set_yticks(np.arange(0,0.1,0.01))\n",
    "ax2.set_ylim(top=0.08)\n",
    "\n",
    "#Win ratio - 3\n",
    "ax3= summaryStatistics.plot(ax=axes[0,2],x='Constant bid price', y='CTR',color ='red', alpha = 0.8)\n",
    "ax3.set_ylabel('CTR [in %]')\n",
    "ax3.set_xlabel('Constant Bid Price [Fen]')\n",
    "ax3.set_xticks(np.arange(0,305,50))\n",
    "ax3.set_yticks(np.arange(0,0.1,0.01))  #ax3.autoscale(enable=True, axis='y', tight=True)\n",
    "ax3.set_ylim(top=0.08)\n",
    "\n",
    "#CTR -  4\n",
    "ax4= summaryStatistics.plot(ax=axes[1,0],x='Constant bid price', y='wonBids',color ='red', alpha = 0.8)\n",
    "ax4.set_ylabel('# of Bids won')\n",
    "ax4.set_xlabel('Constant Bid Price [in Fen]')\n",
    "ax4.set_xticks(np.arange(0,305,50))\n",
    "ax4.set_yticks(np.arange(0,160000,20000))\n",
    "ax4.set_ylim(top=160000)\n",
    "\n",
    "#CPM - 5\n",
    "ax5= summaryStatistics.plot(ax=axes[1,1],x='Constant bid price', y='numberBids',color ='red', alpha = 0.8)\n",
    "ax5.set_ylabel('# of Bids')\n",
    "ax5.set_xlabel('Constant Bid Price [in Fen]')\n",
    "ax5.set_xticks(np.arange(0,305,50))\n",
    "ax5.set_yticks(np.arange(0,1000000,50000))  #ax3.autoscale(enable=True, axis='y', tight=True)\n",
    "ax5.set_ylim(top=350000)\n",
    "\n",
    "#eCPC - 6\n",
    "ax6= summaryStatistics.plot(ax=axes[1,2],x='Constant bid price', y='eCPC',color ='red', alpha = 0.8)\n",
    "ax6.set_ylabel('eCPC [FEN]')\n",
    "ax6.set_xlabel('Bid Value')\n",
    "ax6.set_xticks(np.arange(0,305,50))\n",
    "ax6.set_yticks(np.arange(0,1800,200))  #ax3.autoscale(enable=True, axis='y', tight=True)\n",
    "ax6.set_ylim(top=1600)\n",
    "\n",
    "plt.tight_layout(h_pad = 0.2)\n",
    "\n",
    "#Save image\n",
    "plt.savefig('numberBids.pdf',bbox_inches='tight')"
   ]
  }
 ],
 "metadata": {
  "kernelspec": {
   "display_name": "Python 3",
   "language": "python",
   "name": "python3"
  },
  "language_info": {
   "codemirror_mode": {
    "name": "ipython",
    "version": 3
   },
   "file_extension": ".py",
   "mimetype": "text/x-python",
   "name": "python",
   "nbconvert_exporter": "python",
   "pygments_lexer": "ipython3",
   "version": "3.6.4"
  }
 },
 "nbformat": 4,
 "nbformat_minor": 2
}
