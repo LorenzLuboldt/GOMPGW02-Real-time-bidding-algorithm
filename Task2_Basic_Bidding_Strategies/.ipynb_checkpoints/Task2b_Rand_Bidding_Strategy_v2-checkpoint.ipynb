{
 "cells": [
  {
   "cell_type": "markdown",
   "metadata": {},
   "source": [
    "## Random bidding strategy 2: standard dev. ranges as bid price boundaries"
   ]
  },
  {
   "cell_type": "code",
   "execution_count": null,
   "metadata": {},
   "outputs": [],
   "source": [
    "#Import Libraries\n",
    "import pandas as pd\n",
    "import numpy as np\n",
    "import matplotlib.pyplot as mp\n",
    "\n",
    "#Import validation and testing data sets\n",
    "rtb_train = pd.read_csv(\"train.csv\")\n",
    "rtb_train_cropped = rtb_train[['payprice','click','bidprice']]\n",
    "rtb_validation = pd.read_csv(\"validation.csv\")\n",
    "rtb_validation_cropped = rtb_validation[['payprice','click']]"
   ]
  },
  {
   "cell_type": "code",
   "execution_count": null,
   "metadata": {},
   "outputs": [],
   "source": [
    "#Determine bid prices boundaries with Standard deviation intervalls\n",
    "meanPayPrice = rtb_validation_cropped['payprice'].mean()\n",
    "print(meanPayPrice)"
   ]
  },
  {
   "cell_type": "code",
   "execution_count": null,
   "metadata": {},
   "outputs": [],
   "source": [
    "\n",
    "\n",
    "#Creates an array of random bid prices in the boundaries declared above\n",
    "randomBids = []\n",
    "for i in range(0,len(rtb_validation)):\n",
    "    bid = random.randrange(minPrice,maxPrice,1)\n",
    "    randomBids.append(bid) \n",
    "    \n",
    "rtb_validation['random_bids'] = randomBids\n",
    "\n",
    "constantPrice = 0\n",
    "bidPriceList = []\n",
    "count = 0\n",
    "while (count < ((maxPrice-minPrice)/10)):\n",
    "    constantPrice +=10\n",
    "    bidPriceList.append(constantPrice)\n",
    "    count = count +1\n",
    "    \n",
    "numberBids = []\n",
    "wonBids = []\n",
    "CTR = [] \n",
    "numberClicks = [] \n",
    "CPC = [] \n",
    "CPM = []\n",
    "eCPC = []\n",
    "\n",
    "for j in range (0,len(bidPriceList)):\n",
    "    budget = 6250\n",
    "    bids = 0\n",
    "    impressions = 0\n",
    "    clicks = 0\n",
    "    for i in range(0,len(rtb_validation_cropped)):\n",
    "        if budget > 0 and budget > (rtb_validation_cropped['payprice'].values[i]/1000):\n",
    "            impressions += 1\n",
    "            if (bidPriceList[j]/1000) > (rtb_validation_cropped['payprice'].values[i]/1000):\n",
    "                bids += 1\n",
    "                clicks += rtb_validation_cropped['click'].values[i]\n",
    "                budget = budget - (rtb_validation_cropped['payprice'].values[i]/1000)\n",
    "        else: \n",
    "            print(\"Budget is spent!\")\n",
    "            break\n",
    "    ctr = (clicks/impressions)*100    \n",
    "    cpm = 6250/impressions\n",
    "    cpc = 6250/clicks\n",
    "        #Output for the alrogithm\n",
    "    print(\"Output\")\n",
    "    print(bidPriceList[j])\n",
    "    numberBids.append(impressions)\n",
    "    print(numberBids)\n",
    "    wonBids.append(bids)\n",
    "    print(wonBids)\n",
    "    CTR.append(ctr)\n",
    "    print(CTR)\n",
    "    numberClicks.append(clicks)\n",
    "    print(numberClicks)\n",
    "    CPC.append(cpc)\n",
    "    print(CPC)\n",
    "    CPM.append(cpm)\n",
    "    print(CPM)"
   ]
  },
  {
   "cell_type": "code",
   "execution_count": null,
   "metadata": {},
   "outputs": [],
   "source": []
  }
 ],
 "metadata": {
  "kernelspec": {
   "display_name": "Python 3",
   "language": "python",
   "name": "python3"
  },
  "language_info": {
   "codemirror_mode": {
    "name": "ipython",
    "version": 3
   },
   "file_extension": ".py",
   "mimetype": "text/x-python",
   "name": "python",
   "nbconvert_exporter": "python",
   "pygments_lexer": "ipython3",
   "version": "3.6.4"
  }
 },
 "nbformat": 4,
 "nbformat_minor": 2
}
