{
 "cells": [
  {
   "cell_type": "markdown",
   "metadata": {},
   "source": [
    "## Constant bidding strategy 1: mean CPM as bid price"
   ]
  },
  {
   "cell_type": "code",
   "execution_count": 5,
   "metadata": {},
   "outputs": [],
   "source": [
    "#Import Libraries\n",
    "import pandas as pd\n",
    "import numpy as np\n",
    "import matplotlib.pyplot as mp\n",
    "\n",
    "#Import validation and testing data sets\n",
    "rtb_train = pd.read_csv(\"train.csv\")\n",
    "rtb_validation = pd.read_csv(\"validation.csv\")\n"
   ]
  },
  {
   "cell_type": "code",
   "execution_count": 8,
   "metadata": {},
   "outputs": [
    {
     "name": "stdout",
     "output_type": "stream",
     "text": [
      "0.07815141623895867\n"
     ]
    },
    {
     "ename": "ZeroDivisionError",
     "evalue": "division by zero",
     "output_type": "error",
     "traceback": [
      "\u001b[1;31m---------------------------------------------------------------------------\u001b[0m",
      "\u001b[1;31mZeroDivisionError\u001b[0m                         Traceback (most recent call last)",
      "\u001b[1;32m<ipython-input-8-d4fab0f1c06c>\u001b[0m in \u001b[0;36m<module>\u001b[1;34m()\u001b[0m\n\u001b[0;32m     19\u001b[0m         \u001b[1;32mbreak\u001b[0m\u001b[1;33m\u001b[0m\u001b[0m\n\u001b[0;32m     20\u001b[0m \u001b[1;33m\u001b[0m\u001b[0m\n\u001b[1;32m---> 21\u001b[1;33m \u001b[0mctr\u001b[0m \u001b[1;33m=\u001b[0m \u001b[1;33m(\u001b[0m\u001b[0mclicks\u001b[0m\u001b[1;33m/\u001b[0m\u001b[0mimpressions\u001b[0m\u001b[1;33m)\u001b[0m\u001b[1;33m*\u001b[0m\u001b[1;36m100\u001b[0m\u001b[1;33m\u001b[0m\u001b[0m\n\u001b[0m\u001b[0;32m     22\u001b[0m \u001b[0mcpm\u001b[0m \u001b[1;33m=\u001b[0m \u001b[1;36m6250\u001b[0m\u001b[1;33m/\u001b[0m\u001b[0mimpressions\u001b[0m\u001b[1;33m\u001b[0m\u001b[0m\n\u001b[0;32m     23\u001b[0m \u001b[0mcpc\u001b[0m \u001b[1;33m=\u001b[0m \u001b[1;36m6250\u001b[0m\u001b[1;33m/\u001b[0m\u001b[0mclicks\u001b[0m\u001b[1;33m\u001b[0m\u001b[0m\n",
      "\u001b[1;31mZeroDivisionError\u001b[0m: division by zero"
     ]
    }
   ],
   "source": [
    "budget = 6250\n",
    "bids = 0\n",
    "impressions = 0\n",
    "clicks = 0\n",
    "bidPrice = (rtb_train.loc[:,\"bidprice\"].mean()/1000)\n",
    "bidPrice2 = (rtb_train.loc[:,\"payprice\"].mean()/1000)\n",
    "print(bidPrice2)\n",
    "\n",
    "for i in range(0,len(rtb_validation)):\n",
    "    if budget > 0 and budget > (rtb_validation['payprice'].values[i]/1000):\n",
    "        if bidPrice > (rtb_validation['bidprice'].values[i]/1000):\n",
    "            print(bidPrice2)\n",
    "            impressions += 1\n",
    "            bids += 1\n",
    "            clicks += rtb_validation['click'].values[i]\n",
    "            budget = budget - (rtb_validation['payprice'].values[i]/1000)\n",
    "    else: \n",
    "        print(\"Budget is spent!\")\n",
    "        break\n",
    "        \n",
    "ctr = (clicks/impressions)*100\n",
    "cpm = 6250/impressions\n",
    "cpc = 6250/clicks\n",
    "#Output for the alrogithm\n",
    "print(\"Output\")\n",
    "print(\"Number of Bids:\",bids)\n",
    "print(\"Number of Impressions:\",impressions)\n",
    "print(\"Number of Clicks:\", clicks)\n",
    "print(\"CTR is:\",ctr, \"%\")\n",
    "print(\"CPM is:\",cpm)\n",
    "print(\"CPC is:\",cpc)"
   ]
  },
  {
   "cell_type": "code",
   "execution_count": null,
   "metadata": {},
   "outputs": [],
   "source": []
  }
 ],
 "metadata": {
  "kernelspec": {
   "display_name": "Python 3",
   "language": "python",
   "name": "python3"
  },
  "language_info": {
   "codemirror_mode": {
    "name": "ipython",
    "version": 3
   },
   "file_extension": ".py",
   "mimetype": "text/x-python",
   "name": "python",
   "nbconvert_exporter": "python",
   "pygments_lexer": "ipython3",
   "version": "3.6.4"
  }
 },
 "nbformat": 4,
 "nbformat_minor": 2
}
