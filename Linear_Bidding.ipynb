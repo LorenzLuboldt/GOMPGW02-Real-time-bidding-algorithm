{
 "cells": [
  {
   "cell_type": "code",
   "execution_count": null,
   "metadata": {},
   "outputs": [],
   "source": [
    "#Import Libraries\n",
    "import pandas as pd\n",
    "import numpy as np\n",
    "import matplotlib.pyplot as mp\n"
   ]
  },
  {
   "cell_type": "code",
   "execution_count": 1,
   "metadata": {},
   "outputs": [
    {
     "ename": "NameError",
     "evalue": "name 'rtb_train' is not defined",
     "output_type": "error",
     "traceback": [
      "\u001b[0;31m---------------------------------------------------------------------------\u001b[0m",
      "\u001b[0;31mNameError\u001b[0m                                 Traceback (most recent call last)",
      "\u001b[0;32m<ipython-input-1-ef77cf20525b>\u001b[0m in \u001b[0;36m<module>\u001b[0;34m()\u001b[0m\n\u001b[1;32m      9\u001b[0m \u001b[0mimpressions\u001b[0m \u001b[0;34m=\u001b[0m \u001b[0;36m0\u001b[0m\u001b[0;34m\u001b[0m\u001b[0m\n\u001b[1;32m     10\u001b[0m \u001b[0mclicks\u001b[0m \u001b[0;34m=\u001b[0m \u001b[0;36m0\u001b[0m\u001b[0;34m\u001b[0m\u001b[0m\n\u001b[0;32m---> 11\u001b[0;31m \u001b[0mbidPrice\u001b[0m \u001b[0;34m=\u001b[0m \u001b[0;34m(\u001b[0m\u001b[0mrtb_train\u001b[0m\u001b[0;34m.\u001b[0m\u001b[0mloc\u001b[0m\u001b[0;34m[\u001b[0m\u001b[0;34m:\u001b[0m\u001b[0;34m,\u001b[0m\u001b[0;34m\"bidprice\"\u001b[0m\u001b[0;34m]\u001b[0m\u001b[0;34m.\u001b[0m\u001b[0mmean\u001b[0m\u001b[0;34m(\u001b[0m\u001b[0;34m)\u001b[0m\u001b[0;34m/\u001b[0m\u001b[0;36m1000\u001b[0m\u001b[0;34m)\u001b[0m\u001b[0;34m\u001b[0m\u001b[0m\n\u001b[0m\u001b[1;32m     12\u001b[0m \u001b[0;34m\u001b[0m\u001b[0m\n\u001b[1;32m     13\u001b[0m \u001b[0;32mfor\u001b[0m \u001b[0mi\u001b[0m \u001b[0;32min\u001b[0m \u001b[0mrange\u001b[0m\u001b[0;34m(\u001b[0m\u001b[0;36m0\u001b[0m\u001b[0;34m,\u001b[0m\u001b[0mlen\u001b[0m\u001b[0;34m(\u001b[0m\u001b[0mrtb_validation\u001b[0m\u001b[0;34m)\u001b[0m\u001b[0;34m)\u001b[0m\u001b[0;34m:\u001b[0m\u001b[0;34m\u001b[0m\u001b[0m\n",
      "\u001b[0;31mNameError\u001b[0m: name 'rtb_train' is not defined"
     ]
    }
   ],
   "source": [
    "#base bid should be equal to the equal to the median (=84) since this higher than the mode (=70) but lower than the mean (= 105). Using the mean won't be accurate because few outliers skew the mean to the right.\n",
    "base_bid = 84\n",
    "\n",
    "\n",
    "#lorenz linear bidding\n",
    "\n",
    "base = 0\n",
    "bids = 0\n",
    "impressions = 0\n",
    "clicks = 0\n",
    "bidPrice = (rtb_train.loc[:,\"bidprice\"].mean()/1000)\n",
    "\n",
    "for i in range(0,len(rtb_validation)):\n",
    "    if budget > 0 and budget > (rtb_validation['payprice'].values[i]/1000):\n",
    "        if bidPrice > (rtb_validation['bidprice'].values[i]/1000):\n",
    "            impressions += 1\n",
    "            bids += 1\n",
    "            clicks += rtb_validation['click'].values[i]\n",
    "            budget = budget - (rtb_validation['payprice'].values[i]/1000)\n",
    "    else: \n",
    "        print(\"Budget is spent!\")\n",
    "        break\n",
    "        \n",
    "ctr = (clicks/impressions)*100\n",
    "cpm = 6250/impressions\n",
    "cpc = 6250/clicks\n",
    "#Output for the alrogithm\n",
    "print(\"Output\")\n",
    "print(\"Number of Bids:\",bids)\n",
    "print(\"Number of Impressions:\",impressions)\n",
    "print(\"Number of Clicks:\", clicks)\n",
    "print(\"CTR is:\",ctr, \"%\")\n",
    "print(\"CPM is:\",cpm)\n",
    "print(\"CPC is:\",cpc)"
   ]
  },
  {
   "cell_type": "code",
   "execution_count": null,
   "metadata": {},
   "outputs": [],
   "source": []
  }
 ],
 "metadata": {
  "kernelspec": {
   "display_name": "Python 3",
   "language": "python",
   "name": "python3"
  },
  "language_info": {
   "codemirror_mode": {
    "name": "ipython",
    "version": 3
   },
   "file_extension": ".py",
   "mimetype": "text/x-python",
   "name": "python",
   "nbconvert_exporter": "python",
   "pygments_lexer": "ipython3",
   "version": "3.6.4"
  }
 },
 "nbformat": 4,
 "nbformat_minor": 2
}
