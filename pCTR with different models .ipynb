{
 "cells": [
  {
   "cell_type": "raw",
   "metadata": {},
   "source": [
    "Please make sure you have df_test_prepared, df_train_prepared, df_val_prepared in the right folder \n",
    "if not \n",
    "pls run prepared_Test_Data.ipynb and Prepared_train_&_validation.ipynb\n",
    "\n",
    "This notebook takes a while to run, pls run one cell and let it finishes, \n",
    "dont run them all at one"
   ]
  },
  {
   "cell_type": "code",
   "execution_count": 15,
   "metadata": {},
   "outputs": [],
   "source": [
    "import pandas as pd\n",
    "from matplotlib import pyplot\n",
    "import matplotlib.pyplot as plt\n",
    "import numpy as np\n",
    "import random\n",
    "from operator import itemgetter\n",
    "from sklearn.preprocessing import LabelEncoder\n",
    "from sklearn.preprocessing import StandardScaler\n",
    "from sklearn.metrics import mean_squared_error\n",
    "from sklearn.model_selection import cross_val_score\n",
    "from sklearn.model_selection import GridSearchCV\n",
    "from sklearn.metrics import confusion_matrix\n",
    "from sklearn.metrics import accuracy_score\n",
    "from sklearn.ensemble import RandomForestClassifier\n",
    "from sklearn.metrics import accuracy_score, classification_report \n",
    "from sklearn.pipeline import Pipeline\n",
    "from sklearn.tree import DecisionTreeClassifier\n",
    "from sklearn.svm import SVC\n",
    "from sklearn.model_selection import train_test_split,GridSearchCV \n",
    "from sklearn.metrics import roc_auc_score\n",
    "%matplotlib inline"
   ]
  },
  {
   "cell_type": "code",
   "execution_count": 2,
   "metadata": {},
   "outputs": [
    {
     "data": {
      "text/html": [
       "<div>\n",
       "<style scoped>\n",
       "    .dataframe tbody tr th:only-of-type {\n",
       "        vertical-align: middle;\n",
       "    }\n",
       "\n",
       "    .dataframe tbody tr th {\n",
       "        vertical-align: top;\n",
       "    }\n",
       "\n",
       "    .dataframe thead th {\n",
       "        text-align: right;\n",
       "    }\n",
       "</style>\n",
       "<table border=\"1\" class=\"dataframe\">\n",
       "  <thead>\n",
       "    <tr style=\"text-align: right;\">\n",
       "      <th></th>\n",
       "      <th>weekday</th>\n",
       "      <th>hour</th>\n",
       "      <th>region</th>\n",
       "      <th>city</th>\n",
       "      <th>adexchange</th>\n",
       "      <th>slotwidth</th>\n",
       "      <th>slotheight</th>\n",
       "      <th>slotprice</th>\n",
       "      <th>advertiser</th>\n",
       "      <th>useragent_encoded</th>\n",
       "      <th>IP_encoded</th>\n",
       "      <th>url_encoded</th>\n",
       "      <th>domain_encoded</th>\n",
       "      <th>slotid_encoded</th>\n",
       "      <th>slotvisibility_encoded</th>\n",
       "      <th>slotformat_encoded</th>\n",
       "      <th>creative_encoded</th>\n",
       "      <th>keypage_encoded</th>\n",
       "      <th>usertag_encoded</th>\n",
       "    </tr>\n",
       "  </thead>\n",
       "  <tbody>\n",
       "    <tr>\n",
       "      <th>0</th>\n",
       "      <td>5</td>\n",
       "      <td>22</td>\n",
       "      <td>2</td>\n",
       "      <td>2</td>\n",
       "      <td>2</td>\n",
       "      <td>200</td>\n",
       "      <td>200</td>\n",
       "      <td>5</td>\n",
       "      <td>3427</td>\n",
       "      <td>31</td>\n",
       "      <td>253587</td>\n",
       "      <td>268016</td>\n",
       "      <td>21783</td>\n",
       "      <td>12845</td>\n",
       "      <td>2</td>\n",
       "      <td>0</td>\n",
       "      <td>104</td>\n",
       "      <td>0</td>\n",
       "      <td>744035</td>\n",
       "    </tr>\n",
       "    <tr>\n",
       "      <th>1</th>\n",
       "      <td>1</td>\n",
       "      <td>20</td>\n",
       "      <td>238</td>\n",
       "      <td>239</td>\n",
       "      <td>1</td>\n",
       "      <td>300</td>\n",
       "      <td>250</td>\n",
       "      <td>0</td>\n",
       "      <td>2821</td>\n",
       "      <td>29</td>\n",
       "      <td>282720</td>\n",
       "      <td>145905</td>\n",
       "      <td>728</td>\n",
       "      <td>50771</td>\n",
       "      <td>6</td>\n",
       "      <td>3</td>\n",
       "      <td>9</td>\n",
       "      <td>18</td>\n",
       "      <td>744035</td>\n",
       "    </tr>\n",
       "    <tr>\n",
       "      <th>2</th>\n",
       "      <td>3</td>\n",
       "      <td>13</td>\n",
       "      <td>40</td>\n",
       "      <td>41</td>\n",
       "      <td>2</td>\n",
       "      <td>250</td>\n",
       "      <td>250</td>\n",
       "      <td>5</td>\n",
       "      <td>3427</td>\n",
       "      <td>31</td>\n",
       "      <td>469429</td>\n",
       "      <td>262017</td>\n",
       "      <td>18426</td>\n",
       "      <td>9136</td>\n",
       "      <td>2</td>\n",
       "      <td>0</td>\n",
       "      <td>92</td>\n",
       "      <td>0</td>\n",
       "      <td>188248</td>\n",
       "    </tr>\n",
       "    <tr>\n",
       "      <th>3</th>\n",
       "      <td>6</td>\n",
       "      <td>23</td>\n",
       "      <td>1</td>\n",
       "      <td>1</td>\n",
       "      <td>1</td>\n",
       "      <td>160</td>\n",
       "      <td>600</td>\n",
       "      <td>0</td>\n",
       "      <td>1458</td>\n",
       "      <td>31</td>\n",
       "      <td>107833</td>\n",
       "      <td>658015</td>\n",
       "      <td>4770</td>\n",
       "      <td>50450</td>\n",
       "      <td>2</td>\n",
       "      <td>1</td>\n",
       "      <td>111</td>\n",
       "      <td>12</td>\n",
       "      <td>706361</td>\n",
       "    </tr>\n",
       "    <tr>\n",
       "      <th>4</th>\n",
       "      <td>5</td>\n",
       "      <td>6</td>\n",
       "      <td>216</td>\n",
       "      <td>233</td>\n",
       "      <td>2</td>\n",
       "      <td>728</td>\n",
       "      <td>90</td>\n",
       "      <td>133</td>\n",
       "      <td>2259</td>\n",
       "      <td>31</td>\n",
       "      <td>342191</td>\n",
       "      <td>157670</td>\n",
       "      <td>153</td>\n",
       "      <td>1517</td>\n",
       "      <td>8</td>\n",
       "      <td>3</td>\n",
       "      <td>84</td>\n",
       "      <td>18</td>\n",
       "      <td>744035</td>\n",
       "    </tr>\n",
       "  </tbody>\n",
       "</table>\n",
       "</div>"
      ],
      "text/plain": [
       "   weekday  hour  region  city  adexchange  slotwidth  slotheight  slotprice  \\\n",
       "0        5    22       2     2           2        200         200          5   \n",
       "1        1    20     238   239           1        300         250          0   \n",
       "2        3    13      40    41           2        250         250          5   \n",
       "3        6    23       1     1           1        160         600          0   \n",
       "4        5     6     216   233           2        728          90        133   \n",
       "\n",
       "   advertiser  useragent_encoded  IP_encoded  url_encoded  domain_encoded  \\\n",
       "0        3427                 31      253587       268016           21783   \n",
       "1        2821                 29      282720       145905             728   \n",
       "2        3427                 31      469429       262017           18426   \n",
       "3        1458                 31      107833       658015            4770   \n",
       "4        2259                 31      342191       157670             153   \n",
       "\n",
       "   slotid_encoded  slotvisibility_encoded  slotformat_encoded  \\\n",
       "0           12845                       2                   0   \n",
       "1           50771                       6                   3   \n",
       "2            9136                       2                   0   \n",
       "3           50450                       2                   1   \n",
       "4            1517                       8                   3   \n",
       "\n",
       "   creative_encoded  keypage_encoded  usertag_encoded  \n",
       "0               104                0           744035  \n",
       "1                 9               18           744035  \n",
       "2                92                0           188248  \n",
       "3               111               12           706361  \n",
       "4                84               18           744035  "
      ]
     },
     "execution_count": 2,
     "metadata": {},
     "output_type": "execute_result"
    }
   ],
   "source": [
    "# Load Train data \n",
    "df_train_prepared = pd.read_pickle('df_train_prepared')\n",
    "train_payprice = df_train_prepared['payprice']\n",
    "train_bidprice = df_train_prepared['bidprice']\n",
    "train_click = df_train_prepared['click']\n",
    "\n",
    "rtb_train = df_train_prepared.drop(['click','payprice','bidprice'], axis =1)\n",
    "#drop(['userid','urlid','advertiser','hour','weekday', 'useragent','IP','region','city','adexchange','url','domain','slotid','slotvisibility','slotheight','slotwidth','slotprice','slotformat','creative','keypage','usertag'], axis = 1)\n",
    "rtb_train.head()\n"
   ]
  },
  {
   "cell_type": "code",
   "execution_count": 3,
   "metadata": {},
   "outputs": [
    {
     "data": {
      "text/plain": [
       "0.0007375623256619447"
      ]
     },
     "execution_count": 3,
     "metadata": {},
     "output_type": "execute_result"
    }
   ],
   "source": [
    "x  = df_train_prepared[df_train_prepared['click'] == 1]\n",
    "len(x)/len(df_train_prepared)"
   ]
  },
  {
   "cell_type": "code",
   "execution_count": 4,
   "metadata": {},
   "outputs": [],
   "source": [
    "# Scale validation data for better prediction when using logistic \n",
    "standard_scaler = StandardScaler().fit(rtb_train)\n",
    "train_x = standard_scaler.transform(rtb_train)\n",
    "train_x\n"
   ]
  },
  {
   "cell_type": "code",
   "execution_count": 5,
   "metadata": {},
   "outputs": [
    {
     "data": {
      "text/html": [
       "<div>\n",
       "<style scoped>\n",
       "    .dataframe tbody tr th:only-of-type {\n",
       "        vertical-align: middle;\n",
       "    }\n",
       "\n",
       "    .dataframe tbody tr th {\n",
       "        vertical-align: top;\n",
       "    }\n",
       "\n",
       "    .dataframe thead th {\n",
       "        text-align: right;\n",
       "    }\n",
       "</style>\n",
       "<table border=\"1\" class=\"dataframe\">\n",
       "  <thead>\n",
       "    <tr style=\"text-align: right;\">\n",
       "      <th></th>\n",
       "      <th>weekday</th>\n",
       "      <th>hour</th>\n",
       "      <th>region</th>\n",
       "      <th>city</th>\n",
       "      <th>adexchange</th>\n",
       "      <th>slotwidth</th>\n",
       "      <th>slotheight</th>\n",
       "      <th>slotprice</th>\n",
       "      <th>advertiser</th>\n",
       "      <th>useragent_encoded</th>\n",
       "      <th>IP_encoded</th>\n",
       "      <th>url_encoded</th>\n",
       "      <th>domain_encoded</th>\n",
       "      <th>slotid_encoded</th>\n",
       "      <th>slotvisibility_encoded</th>\n",
       "      <th>slotformat_encoded</th>\n",
       "      <th>creative_encoded</th>\n",
       "      <th>keypage_encoded</th>\n",
       "      <th>usertag_encoded</th>\n",
       "    </tr>\n",
       "  </thead>\n",
       "  <tbody>\n",
       "    <tr>\n",
       "      <th>0</th>\n",
       "      <td>4</td>\n",
       "      <td>20</td>\n",
       "      <td>79</td>\n",
       "      <td>79</td>\n",
       "      <td>1</td>\n",
       "      <td>160</td>\n",
       "      <td>600</td>\n",
       "      <td>0</td>\n",
       "      <td>1458</td>\n",
       "      <td>28</td>\n",
       "      <td>137474</td>\n",
       "      <td>45239</td>\n",
       "      <td>8595</td>\n",
       "      <td>14275</td>\n",
       "      <td>2</td>\n",
       "      <td>1</td>\n",
       "      <td>109</td>\n",
       "      <td>12</td>\n",
       "      <td>110919</td>\n",
       "    </tr>\n",
       "    <tr>\n",
       "      <th>1</th>\n",
       "      <td>1</td>\n",
       "      <td>21</td>\n",
       "      <td>79</td>\n",
       "      <td>79</td>\n",
       "      <td>1</td>\n",
       "      <td>950</td>\n",
       "      <td>90</td>\n",
       "      <td>0</td>\n",
       "      <td>3476</td>\n",
       "      <td>26</td>\n",
       "      <td>178167</td>\n",
       "      <td>109524</td>\n",
       "      <td>7201</td>\n",
       "      <td>14355</td>\n",
       "      <td>0</td>\n",
       "      <td>1</td>\n",
       "      <td>108</td>\n",
       "      <td>7</td>\n",
       "      <td>69995</td>\n",
       "    </tr>\n",
       "    <tr>\n",
       "      <th>2</th>\n",
       "      <td>4</td>\n",
       "      <td>8</td>\n",
       "      <td>2</td>\n",
       "      <td>2</td>\n",
       "      <td>2</td>\n",
       "      <td>300</td>\n",
       "      <td>250</td>\n",
       "      <td>5</td>\n",
       "      <td>3358</td>\n",
       "      <td>28</td>\n",
       "      <td>52834</td>\n",
       "      <td>75356</td>\n",
       "      <td>8455</td>\n",
       "      <td>7129</td>\n",
       "      <td>2</td>\n",
       "      <td>0</td>\n",
       "      <td>99</td>\n",
       "      <td>14</td>\n",
       "      <td>108448</td>\n",
       "    </tr>\n",
       "    <tr>\n",
       "      <th>3</th>\n",
       "      <td>5</td>\n",
       "      <td>15</td>\n",
       "      <td>201</td>\n",
       "      <td>205</td>\n",
       "      <td>2</td>\n",
       "      <td>336</td>\n",
       "      <td>280</td>\n",
       "      <td>5</td>\n",
       "      <td>3358</td>\n",
       "      <td>26</td>\n",
       "      <td>192739</td>\n",
       "      <td>27901</td>\n",
       "      <td>8931</td>\n",
       "      <td>8936</td>\n",
       "      <td>2</td>\n",
       "      <td>0</td>\n",
       "      <td>116</td>\n",
       "      <td>14</td>\n",
       "      <td>109043</td>\n",
       "    </tr>\n",
       "    <tr>\n",
       "      <th>4</th>\n",
       "      <td>1</td>\n",
       "      <td>18</td>\n",
       "      <td>134</td>\n",
       "      <td>135</td>\n",
       "      <td>2</td>\n",
       "      <td>200</td>\n",
       "      <td>200</td>\n",
       "      <td>5</td>\n",
       "      <td>3476</td>\n",
       "      <td>26</td>\n",
       "      <td>55070</td>\n",
       "      <td>135142</td>\n",
       "      <td>6582</td>\n",
       "      <td>423</td>\n",
       "      <td>1</td>\n",
       "      <td>0</td>\n",
       "      <td>42</td>\n",
       "      <td>5</td>\n",
       "      <td>6344</td>\n",
       "    </tr>\n",
       "  </tbody>\n",
       "</table>\n",
       "</div>"
      ],
      "text/plain": [
       "   weekday  hour  region  city  adexchange  slotwidth  slotheight  slotprice  \\\n",
       "0        4    20      79    79           1        160         600          0   \n",
       "1        1    21      79    79           1        950          90          0   \n",
       "2        4     8       2     2           2        300         250          5   \n",
       "3        5    15     201   205           2        336         280          5   \n",
       "4        1    18     134   135           2        200         200          5   \n",
       "\n",
       "   advertiser  useragent_encoded  IP_encoded  url_encoded  domain_encoded  \\\n",
       "0        1458                 28      137474        45239            8595   \n",
       "1        3476                 26      178167       109524            7201   \n",
       "2        3358                 28       52834        75356            8455   \n",
       "3        3358                 26      192739        27901            8931   \n",
       "4        3476                 26       55070       135142            6582   \n",
       "\n",
       "   slotid_encoded  slotvisibility_encoded  slotformat_encoded  \\\n",
       "0           14275                       2                   1   \n",
       "1           14355                       0                   1   \n",
       "2            7129                       2                   0   \n",
       "3            8936                       2                   0   \n",
       "4             423                       1                   0   \n",
       "\n",
       "   creative_encoded  keypage_encoded  usertag_encoded  \n",
       "0               109               12           110919  \n",
       "1               108                7            69995  \n",
       "2                99               14           108448  \n",
       "3               116               14           109043  \n",
       "4                42                5             6344  "
      ]
     },
     "execution_count": 5,
     "metadata": {},
     "output_type": "execute_result"
    }
   ],
   "source": [
    "# Load validation data\n",
    "df_val_prepared = pd.read_pickle('df_val_prepared')\n",
    "\n",
    "val_payprice = df_val_prepared['payprice']\n",
    "val_bidprice = df_val_prepared['bidprice']\n",
    "val_click = df_val_prepared['click']\n",
    "\n",
    "rtb_validation = df_val_prepared.drop(['click','payprice','bidprice'], axis =1)\n",
    "rtb_validation.head()"
   ]
  },
  {
   "cell_type": "code",
   "execution_count": 6,
   "metadata": {},
   "outputs": [
    {
     "data": {
      "text/plain": [
       "array([[ 0.54310061,  0.98980048, -0.68871428, ...,  1.01082565,\n",
       "         0.28468824,  1.09400445],\n",
       "       [-0.91767115,  1.14215317, -0.68871428, ...,  0.98465616,\n",
       "        -0.52200851,  0.06389319],\n",
       "       [ 0.54310061, -0.83843181, -1.44347493, ...,  0.74913079,\n",
       "         0.60736694,  1.03180611],\n",
       "       ...,\n",
       "       [ 0.05617669,  0.22803703, -0.67891219, ..., -0.53317401,\n",
       "        -1.32870527, -0.34415914],\n",
       "       [ 1.51694846, -0.68607912, -0.67891219, ...,  1.01082565,\n",
       "         0.28468824, -1.10209286],\n",
       "       [ 1.51694846, -2.05725333,  0.65417155, ...,  0.85380873,\n",
       "        -1.32870527, -0.56914043]])"
      ]
     },
     "execution_count": 6,
     "metadata": {},
     "output_type": "execute_result"
    }
   ],
   "source": [
    "# Scale validation data for better prediction when using logistic \n",
    "standard_scaler = StandardScaler().fit(rtb_validation)\n",
    "val_x = standard_scaler.transform(rtb_validation)\n",
    "val_x"
   ]
  },
  {
   "cell_type": "code",
   "execution_count": 7,
   "metadata": {},
   "outputs": [],
   "source": [
    "test_data = pd.read_pickle('df_test_prepared')\n",
    "\n",
    "standard_scaler = StandardScaler().fit(test_data)\n",
    "test_x = standard_scaler.transform(test_data)\n",
    "\n",
    "#np.save('test_data',test_x )"
   ]
  },
  {
   "cell_type": "markdown",
   "metadata": {},
   "source": [
    "### Average CTR for Validation"
   ]
  },
  {
   "cell_type": "code",
   "execution_count": 8,
   "metadata": {},
   "outputs": [
    {
     "data": {
      "text/plain": [
       "0.00066"
      ]
     },
     "execution_count": 8,
     "metadata": {},
     "output_type": "execute_result"
    }
   ],
   "source": [
    "# THIS IS AVERAGE CTR FOR VALIDATION DATA \n",
    "\n",
    "val_click_1 = df_val_prepared[df_val_prepared['click'] == 1]\n",
    "val_AvgCTR =  float(\"{0:.5f}\".format(len(val_click_1)/len(df_val_prepared['click'])))\n",
    "val_AvgCTR "
   ]
  },
  {
   "cell_type": "markdown",
   "metadata": {},
   "source": [
    "###  UNDER SAMPLING  "
   ]
  },
  {
   "cell_type": "code",
   "execution_count": 9,
   "metadata": {},
   "outputs": [],
   "source": [
    "from imblearn.under_sampling import RandomUnderSampler\n",
    "\n",
    "mean_class_size = int(pd.Series(train_click).value_counts().sum()/1500)\n",
    "mean_class_size\n",
    "\n",
    "ratio = {0: mean_class_size,\n",
    "         1: mean_class_size}\n",
    "\n",
    "rus = RandomUnderSampler (ratio = ratio, random_state = 0)\n",
    "rus\n",
    "\n",
    "train_x_rus, train_y_rus = rus.fit_sample(train_x, train_click)"
   ]
  },
  {
   "cell_type": "code",
   "execution_count": 10,
   "metadata": {},
   "outputs": [],
   "source": [
    "from sklearn.model_selection import train_test_split\n",
    "\n",
    "x_train, x_test, y_train, y_test = train_test_split(train_x, train_click, test_size = 0.8, random_state = 42)\n"
   ]
  },
  {
   "cell_type": "code",
   "execution_count": 85,
   "metadata": {},
   "outputs": [
    {
     "name": "stdout",
     "output_type": "stream",
     "text": [
      "CONFUSION MATRIX:\n",
      "[[223919  79804]\n",
      " [    93    109]]\n",
      "\n",
      "ACCURACY:\n",
      "0.737116064818623\n",
      "\n",
      "ROC AUC RESULT:\n",
      "0.6846443556258905\n"
     ]
    }
   ],
   "source": [
    "log_clf = LogisticRegression()\n",
    "log_clf.fit(train_x_rus, train_y_rus)\n",
    "\n",
    "y_pred_log = log_clf.predict(val_x)\n",
    "log_ctr = log_clf.predict_proba(val_x)[:,1]\n",
    "\n",
    "conf_mx_log = confusion_matrix(val_click, y_pred_log)\n",
    "\n",
    "print('CONFUSION MATRIX:')\n",
    "print(conf_mx_log) \n",
    "print()\n",
    "print('ACCURACY:')\n",
    "print(accuracy_score(val_click, y_pred_log))\n",
    "print()\n",
    "print('ROC AUC RESULT:')\n",
    "print(roc_auc_score(val_click, log_ctr))"
   ]
  },
  {
   "cell_type": "code",
   "execution_count": 64,
   "metadata": {},
   "outputs": [
    {
     "data": {
      "text/plain": [
       "81189"
      ]
     },
     "execution_count": 64,
     "metadata": {},
     "output_type": "execute_result"
    }
   ],
   "source": [
    "# Predict pCTR for test data \n",
    "y_pred_log_test = log_clf.predict(test_x)\n",
    "log_ctr_test = log_clf.predict_proba(test_x)[:,1]\n",
    "\n",
    "logistic_clf = pd.DataFrame(columns=['pCTR'], data = log_ctr_test)\n",
    "logistic_clf['click'] = y_pred_log_test\n",
    "len(logistic_clf[logistic_clf['click'] == 1])\n"
   ]
  },
  {
   "cell_type": "markdown",
   "metadata": {},
   "source": [
    "### DECISION TREE CLASSIFIER "
   ]
  },
  {
   "cell_type": "code",
   "execution_count": 16,
   "metadata": {},
   "outputs": [
    {
     "name": "stdout",
     "output_type": "stream",
     "text": [
      "Fitting 3 folds for each of 594 candidates, totalling 1782 fits\n"
     ]
    },
    {
     "name": "stderr",
     "output_type": "stream",
     "text": [
      "[Parallel(n_jobs=-1)]: Done 484 tasks      | elapsed:    2.7s\n"
     ]
    },
    {
     "name": "stdout",
     "output_type": "stream",
     "text": [
      "BEST PARAMETERS FOR RANDOM FOREST:\n",
      "DecisionTreeClassifier(class_weight=None, criterion='gini', max_depth=None,\n",
      "            max_features=None, max_leaf_nodes=7, min_impurity_decrease=0.0,\n",
      "            min_impurity_split=None, min_samples_leaf=1,\n",
      "            min_samples_split=2, min_weight_fraction_leaf=0.0,\n",
      "            presort=False, random_state=42, splitter='best')\n"
     ]
    },
    {
     "name": "stderr",
     "output_type": "stream",
     "text": [
      "[Parallel(n_jobs=-1)]: Done 1782 out of 1782 | elapsed:   11.4s finished\n"
     ]
    }
   ],
   "source": [
    "# Train the model with train data (under sampling)\n",
    "# Using Grid Search to find the parameters for the model\n",
    "\n",
    "params = {'max_leaf_nodes': list(range(2, 200)), 'min_samples_split':[2, 3, 4]}\n",
    "grid_search_tree = GridSearchCV(DecisionTreeClassifier(random_state = 42), params, n_jobs = -1, verbose = 1)\n",
    "grid_search_tree.fit(train_x_rus, train_y_rus)\n",
    "\n",
    "tree_best = grid_search_tree.best_estimator_\n",
    "\n",
    "print('BEST PARAMETERS FOR RANDOM FOREST:')\n",
    "print(tree_best)"
   ]
  },
  {
   "cell_type": "code",
   "execution_count": 84,
   "metadata": {},
   "outputs": [
    {
     "name": "stdout",
     "output_type": "stream",
     "text": [
      "CONFUSION MATRIX:\n",
      "[[245082  58641]\n",
      " [    80    122]]\n",
      "\n",
      "ACCURACY:\n",
      "0.8067911491321872\n",
      "\n",
      "ROC AUC RESULT:\n",
      "0.7494742799612584\n"
     ]
    }
   ],
   "source": [
    "# Use the trained model to predict ctr for validation data\n",
    "\n",
    "y_pred_tree = grid_search_tree.predict(val_x)\n",
    "tree_ctr = tree_best.predict_proba(val_x)[:,1]\n",
    "conf_mx_tree = confusion_matrix(val_click, y_pred_tree)\n",
    "\n",
    "print('CONFUSION MATRIX:')\n",
    "print(conf_mx_tree) \n",
    "print()\n",
    "print('ACCURACY:')\n",
    "print(accuracy_score(val_click, y_pred_tree))\n",
    "\n",
    "print()\n",
    "print('ROC AUC RESULT:')\n",
    "print(roc_auc_score(val_click, tree_ctr))\n"
   ]
  },
  {
   "cell_type": "code",
   "execution_count": 18,
   "metadata": {},
   "outputs": [
    {
     "data": {
      "text/plain": [
       "57604"
      ]
     },
     "execution_count": 18,
     "metadata": {},
     "output_type": "execute_result"
    }
   ],
   "source": [
    "# Predict pCTR for test data \n",
    "y_pred_tree_test = grid_search_tree.predict(test_x)\n",
    "tree_ctr_test = tree_best.predict_proba(test_x)[:,1]\n",
    "\n",
    "decision_tree = pd.DataFrame(columns=['pCTR'], data = tree_ctr_test)\n",
    "decision_tree['click'] = y_pred_tree_test\n",
    "len(decision_tree[decision_tree['click'] == 1])\n",
    "#prediction.to_pickle('df_test_prediction')"
   ]
  },
  {
   "cell_type": "markdown",
   "metadata": {},
   "source": [
    "### RANDOM FOREST CLASSIFIER"
   ]
  },
  {
   "cell_type": "markdown",
   "metadata": {},
   "source": [
    "#### This classifier takes around 10-20 mins to run, you can go eat dinner while waiting"
   ]
  },
  {
   "cell_type": "code",
   "execution_count": 19,
   "metadata": {},
   "outputs": [
    {
     "name": "stdout",
     "output_type": "stream",
     "text": [
      "Fitting 5 folds for each of 36 candidates, totalling 180 fits\n"
     ]
    },
    {
     "name": "stderr",
     "output_type": "stream",
     "text": [
      "[Parallel(n_jobs=-1)]: Done  42 tasks      | elapsed:  1.4min\n",
      "[Parallel(n_jobs=-1)]: Done 180 out of 180 | elapsed:  5.1min finished\n"
     ]
    },
    {
     "name": "stdout",
     "output_type": "stream",
     "text": [
      "BEST PARAMETERS FOR RANDOM FOREST:\n",
      "Pipeline(memory=None,\n",
      "     steps=[('clf', RandomForestClassifier(bootstrap=True, class_weight=None, criterion='gini',\n",
      "            max_depth=30, max_features='auto', max_leaf_nodes=None,\n",
      "            min_impurity_decrease=0.0, min_impurity_split=None,\n",
      "            min_samples_leaf=2, min_samples_split=3,\n",
      "            min_weight_fraction_leaf=0.0, n_estimators=300, n_jobs=1,\n",
      "            oob_score=False, random_state=None, verbose=0,\n",
      "            warm_start=False))])\n"
     ]
    }
   ],
   "source": [
    "# Train the model with train data (under sampling)\n",
    "# Using Grid Search to find the parameters for the model\n",
    "\n",
    "random_forest = Pipeline([ ('clf', RandomForestClassifier(criterion='gini'))])\n",
    "parameters = {'clf__n_estimators':(300, 500, 1000),\n",
    "               'clf__max_depth':(30, 50, 80), \n",
    "               'clf__min_samples_split':(2, 3), \n",
    "               'clf__min_samples_leaf':(1, 2)} \n",
    "\n",
    "\n",
    "grid_search_forest = GridSearchCV(random_forest, parameters, n_jobs=-1, cv=5, verbose=1, scoring='accuracy') \n",
    "grid_search_forest.fit(train_x_rus, train_y_rus)\n",
    "\n",
    "forest_best = grid_search_forest.best_estimator_\n",
    "print('BEST PARAMETERS FOR RANDOM FOREST:')\n",
    "print(forest_best)"
   ]
  },
  {
   "cell_type": "markdown",
   "metadata": {},
   "source": [
    "### This classifier will takes another 5 mins to run"
   ]
  },
  {
   "cell_type": "code",
   "execution_count": 81,
   "metadata": {},
   "outputs": [
    {
     "name": "stdout",
     "output_type": "stream",
     "text": [
      "CONFUSION MATRIX:\n",
      "[[228806  74917]\n",
      " [    66    136]]\n",
      "\n",
      "ACCURACY:\n",
      "0.7532845274327548\n",
      "\n",
      "ROC AUC RESULT:\n",
      "0.7847858244205907\n"
     ]
    }
   ],
   "source": [
    "# Use the trained model to predict ctr for validation data\n",
    "\n",
    "y_pred_forest = grid_search_forest.predict(val_x)\n",
    "forest_ctr = forest_best.predict_proba(val_x)[:,1]\n",
    "conf_mx_forest = confusion_matrix(val_click, y_pred_forest)\n",
    "\n",
    "print('CONFUSION MATRIX:')\n",
    "print(confusion_matrix(val_click, y_pred_forest)) \n",
    "print()\n",
    "print('ACCURACY:')\n",
    "print( accuracy_score(val_click, y_pred_forest))\n",
    "print()\n",
    "print('ROC AUC RESULT:')\n",
    "print(roc_auc_score(val_click, forest_ctr))"
   ]
  },
  {
   "cell_type": "code",
   "execution_count": 21,
   "metadata": {},
   "outputs": [
    {
     "data": {
      "text/plain": [
       "75398"
      ]
     },
     "execution_count": 21,
     "metadata": {},
     "output_type": "execute_result"
    }
   ],
   "source": [
    "# Predict pCTR for test data \n",
    "y_pred_forest_test = grid_search_forest.predict(test_x)\n",
    "forest_ctr_test = forest_best.predict_proba(test_x)[:,1]\n",
    "\n",
    "random_forest = pd.DataFrame(columns=['pCTR'], data = forest_ctr_test)\n",
    "random_forest['click'] = y_pred_forest_test\n",
    "len(random_forest[random_forest['click'] == 1])\n"
   ]
  },
  {
   "cell_type": "markdown",
   "metadata": {},
   "source": [
    "### Ada-Boost Ensemble \n",
    "\n",
    "- Boosting Tree Algorithm \n",
    "- Read about Ada-Boost \n",
    "- The algorithm starts with a simple decision tree for prediction\n",
    "- For the wrong predicted data points \n",
    "- It will update the parameter for the wrong prediction \n",
    "- And use the model with the updated parameters to predict again\n",
    "- This process is repeated many times until it is done "
   ]
  },
  {
   "cell_type": "code",
   "execution_count": 22,
   "metadata": {},
   "outputs": [
    {
     "data": {
      "text/plain": [
       "AdaBoostClassifier(algorithm='SAMME.R',\n",
       "          base_estimator=DecisionTreeClassifier(class_weight=None, criterion='gini', max_depth=1,\n",
       "            max_features=None, max_leaf_nodes=None,\n",
       "            min_impurity_decrease=0.0, min_impurity_split=None,\n",
       "            min_samples_leaf=1, min_samples_split=2,\n",
       "            min_weight_fraction_leaf=0.0, presort=False, random_state=None,\n",
       "            splitter='best'),\n",
       "          learning_rate=0.008, n_estimators=1000, random_state=None)"
      ]
     },
     "execution_count": 22,
     "metadata": {},
     "output_type": "execute_result"
    }
   ],
   "source": [
    "from sklearn.tree import DecisionTreeClassifier\n",
    "from sklearn.ensemble import AdaBoostClassifier \n",
    "ada_clf = AdaBoostClassifier( \n",
    "    DecisionTreeClassifier(max_depth = 1), n_estimators = 1000, algorithm=\"SAMME.R\", learning_rate= 0.008)\n",
    "ada_clf.fit(train_x_rus, train_y_rus)\n"
   ]
  },
  {
   "cell_type": "code",
   "execution_count": 80,
   "metadata": {},
   "outputs": [
    {
     "name": "stdout",
     "output_type": "stream",
     "text": [
      "CONFUSION MATRIX:\n",
      "[[258874  44849]\n",
      " [    94    108]]\n",
      "\n",
      "ACCURACY:\n",
      "0.8521247018178827\n",
      "\n",
      "ROC AUC RESULT:\n",
      "0.7510397778747263\n"
     ]
    }
   ],
   "source": [
    "# This takes a while to run too \n",
    "# Use Ada Boost to predict ctr for validation data\n",
    "\n",
    "y_pred_ada = ada_clf.predict(val_x)\n",
    "ada_ctr = ada_clf.predict_proba(val_x)[:,1]\n",
    "\n",
    "print('CONFUSION MATRIX:')\n",
    "print(confusion_matrix(val_click, y_pred_ada)) \n",
    "print()\n",
    "print('ACCURACY:')\n",
    "print( accuracy_score(val_click, y_pred_ada))\n",
    "print()\n",
    "print('ROC AUC RESULT:')\n",
    "print(roc_auc_score(val_click, ada_ctr))\n"
   ]
  },
  {
   "cell_type": "code",
   "execution_count": 24,
   "metadata": {},
   "outputs": [
    {
     "data": {
      "text/plain": [
       "44618"
      ]
     },
     "execution_count": 24,
     "metadata": {},
     "output_type": "execute_result"
    }
   ],
   "source": [
    "# Predict pCTR for test data \n",
    "y_pred_ada_test = ada_clf.predict(test_x)\n",
    "ada_ctr_test = ada_clf.predict_proba(test_x)[:,1]\n",
    "\n",
    "ada_boost = pd.DataFrame(columns=['pCTR'], data = ada_ctr_test)\n",
    "ada_boost['click'] = y_pred_ada_test\n",
    "len(ada_boost[ada_boost['click'] == 1])\n",
    "#prediction.to_pickle('df_test_prediction')"
   ]
  },
  {
   "cell_type": "markdown",
   "metadata": {},
   "source": [
    "### Combine the all classifiers\n",
    "\n",
    "- This is Ensemble Classifier where all results are compared \n",
    "- And the voting classifier will choose the prediction that got most voted "
   ]
  },
  {
   "cell_type": "markdown",
   "metadata": {},
   "source": [
    "#### This will take a while to run "
   ]
  },
  {
   "cell_type": "code",
   "execution_count": 88,
   "metadata": {},
   "outputs": [
    {
     "name": "stderr",
     "output_type": "stream",
     "text": [
      "/usr/local/lib/python3.6/site-packages/sklearn/preprocessing/label.py:151: DeprecationWarning: The truth value of an empty array is ambiguous. Returning False, but in future this will result in an error. Use `array.size > 0` to check that an array is not empty.\n",
      "  if diff:\n"
     ]
    },
    {
     "name": "stdout",
     "output_type": "stream",
     "text": [
      "CONFUSION MATRIX:\n",
      "[[242075  61648]\n",
      " [    78    124]]\n",
      "\n",
      "ACCURACY:\n",
      "0.7969038414082422\n",
      "\n",
      "ROC AUC RESULT:\n",
      "0.7780201168841214\n"
     ]
    }
   ],
   "source": [
    "from sklearn.ensemble import VotingClassifier\n",
    "from sklearn.linear_model import LogisticRegression\n",
    "\n",
    "log_clf = LogisticRegression()\n",
    "rnd_clf = forest_best\n",
    "tree_clf = tree_best\n",
    "rnd_clf = forest_best\n",
    "ada_clf = AdaBoostClassifier( \n",
    "    DecisionTreeClassifier(max_depth = 1), n_estimators = 1000, algorithm=\"SAMME.R\", learning_rate= 0.008)\n",
    "\n",
    "\n",
    "voting_clf = VotingClassifier(\n",
    "    estimators = [('lr', log_clf), ('rf', rnd_clf), ('tree',tree_clf ), ('ada', ada_clf)], voting = 'soft')\n",
    "voting_clf.fit(train_x_rus, train_y_rus)\n",
    "\n",
    "\n",
    "y_pred_voting = voting_clf.predict(val_x)\n",
    "y_prob_voting = voting_clf.predict_proba(val_x)[:,1]\n",
    "\n",
    "conf_max_voting = confusion_matrix(val_click, y_pred_voting)\n",
    "print('CONFUSION MATRIX:')\n",
    "print(conf_max_voting)\n",
    "print()\n",
    "print('ACCURACY:')\n",
    "print( accuracy_score(val_click, y_pred_voting))\n",
    "print()\n",
    "print('ROC AUC RESULT:')\n",
    "print(roc_auc_score(val_click, y_prob_voting))\n"
   ]
  },
  {
   "cell_type": "code",
   "execution_count": 89,
   "metadata": {},
   "outputs": [
    {
     "name": "stderr",
     "output_type": "stream",
     "text": [
      "/usr/local/lib/python3.6/site-packages/sklearn/preprocessing/label.py:151: DeprecationWarning: The truth value of an empty array is ambiguous. Returning False, but in future this will result in an error. Use `array.size > 0` to check that an array is not empty.\n",
      "  if diff:\n"
     ]
    }
   ],
   "source": [
    "# Voting classifier to predict pCTR for test data \n",
    "\n",
    "y_pred_voting_test = voting_clf.predict(test_x)\n",
    "y_prob_voting_test = voting_clf.predict_proba(test_x)[:,1]"
   ]
  },
  {
   "cell_type": "code",
   "execution_count": 38,
   "metadata": {},
   "outputs": [
    {
     "data": {
      "text/plain": [
       "59469"
      ]
     },
     "execution_count": 38,
     "metadata": {},
     "output_type": "execute_result"
    }
   ],
   "source": [
    "voting_clf = pd.DataFrame(columns=['pCTR'], data = y_prob_voting_test)\n",
    "voting_clf['click'] = y_pred_voting_test\n",
    "len(voting_clf[voting_clf['click'] == 1])"
   ]
  },
  {
   "cell_type": "markdown",
   "metadata": {},
   "source": [
    "### Recall Precision Trade off\n"
   ]
  },
  {
   "cell_type": "raw",
   "metadata": {},
   "source": [
    "This is my understanding, You can read about this more on Internet\n",
    "RECALL: \n",
    "Is the true positive rate \n",
    "True positive = correct classifiy clicked as 1\n",
    "False positive = classify no click as 1 \n",
    "\n",
    "PRECISION: \n",
    "Number of each classes being classified correctly \n",
    "\n",
    "\n",
    "ROC curve plots the true positive rate against the false positive rate\n",
    "\n",
    "Classifiers is to measure the area under the curve (AUC)\n",
    "A perfect classifier will have a ROC AUC equal to 1\n"
   ]
  },
  {
   "cell_type": "code",
   "execution_count": 92,
   "metadata": {},
   "outputs": [],
   "source": [
    "dummyarray = np.empty((5, 3,))\n",
    "df_models = pd.DataFrame(dummyarray)\n",
    "\n",
    "df_models.columns = [\"models\", \"accuracy_scores\", \"ROC_AUC_scores\",]\n",
    "df_models.loc[ 0 , 'models'] = \"Logistic\"\n",
    "df_models.loc[ 1 , 'models'] = \"Decision_Tree\"\n",
    "df_models.loc[ 2 , 'models'] = \"Random_Forest\"\n",
    "df_models.loc[ 3 , 'models'] = \"AdaBoost\"\n",
    "df_models.loc[ 4 , 'models'] = \"Voting Classifier\"\n",
    "\n",
    "df_models.loc[ 0 , 'accuracy_scores'] = \"0.74%\"\n",
    "df_models.loc[ 1 , 'accuracy_scores'] = \"0.81%\"\n",
    "df_models.loc[ 2 , 'accuracy_scores'] = \"0.75%\"\n",
    "df_models.loc[ 3 , 'accuracy_scores'] = \"0.85%\"\n",
    "df_models.loc[ 4 , 'accuracy_scores'] = \"0.80%\"\n",
    "\n",
    "df_models.loc[ 0 , 'ROC_AUC_scores'] = \"0.68%\"\n",
    "df_models.loc[ 1 , 'ROC_AUC_scores'] = \"0.75%\"\n",
    "df_models.loc[ 2 , 'ROC_AUC_scores'] = \"0.79%\"\n",
    "df_models.loc[ 3 , 'ROC_AUC_scores'] = \"0.75%\"\n",
    "df_models.loc[ 4 , 'ROC_AUC_scores'] = \"0.78%\""
   ]
  },
  {
   "cell_type": "code",
   "execution_count": 93,
   "metadata": {},
   "outputs": [
    {
     "data": {
      "text/html": [
       "<div>\n",
       "<style scoped>\n",
       "    .dataframe tbody tr th:only-of-type {\n",
       "        vertical-align: middle;\n",
       "    }\n",
       "\n",
       "    .dataframe tbody tr th {\n",
       "        vertical-align: top;\n",
       "    }\n",
       "\n",
       "    .dataframe thead th {\n",
       "        text-align: right;\n",
       "    }\n",
       "</style>\n",
       "<table border=\"1\" class=\"dataframe\">\n",
       "  <thead>\n",
       "    <tr style=\"text-align: right;\">\n",
       "      <th></th>\n",
       "      <th>models</th>\n",
       "      <th>accuracy_scores</th>\n",
       "      <th>ROC_AUC_scores</th>\n",
       "    </tr>\n",
       "  </thead>\n",
       "  <tbody>\n",
       "    <tr>\n",
       "      <th>0</th>\n",
       "      <td>Logistic</td>\n",
       "      <td>0.74%</td>\n",
       "      <td>0.68%</td>\n",
       "    </tr>\n",
       "    <tr>\n",
       "      <th>1</th>\n",
       "      <td>Decision_Tree</td>\n",
       "      <td>0.81%</td>\n",
       "      <td>0.75%</td>\n",
       "    </tr>\n",
       "    <tr>\n",
       "      <th>2</th>\n",
       "      <td>Random_Forest</td>\n",
       "      <td>0.75%</td>\n",
       "      <td>0.79%</td>\n",
       "    </tr>\n",
       "    <tr>\n",
       "      <th>3</th>\n",
       "      <td>AdaBoost</td>\n",
       "      <td>0.85%</td>\n",
       "      <td>0.75%</td>\n",
       "    </tr>\n",
       "    <tr>\n",
       "      <th>4</th>\n",
       "      <td>Voting Classifier</td>\n",
       "      <td>0.80%</td>\n",
       "      <td>0.78%</td>\n",
       "    </tr>\n",
       "  </tbody>\n",
       "</table>\n",
       "</div>"
      ],
      "text/plain": [
       "              models accuracy_scores ROC_AUC_scores\n",
       "0           Logistic           0.74%          0.68%\n",
       "1      Decision_Tree           0.81%          0.75%\n",
       "2      Random_Forest           0.75%          0.79%\n",
       "3           AdaBoost           0.85%          0.75%\n",
       "4  Voting Classifier           0.80%          0.78%"
      ]
     },
     "execution_count": 93,
     "metadata": {},
     "output_type": "execute_result"
    }
   ],
   "source": [
    "df_models"
   ]
  },
  {
   "cell_type": "code",
   "execution_count": 65,
   "metadata": {},
   "outputs": [],
   "source": [
    "# I plotted for all models but i think only need 1 plot for the report\n",
    "\n",
    "\n",
    "from sklearn.metrics import roc_curve\n",
    "\n",
    "y_scores_log = log_ctr # score = proba of positive class\n",
    "fpr_log, tpr_log, thresholds_log = roc_curve(val_click , y_scores_log)\n",
    "\n",
    "y_scores_forest = forest_ctr # score = proba of positive class\n",
    "fpr_forest, tpr_forest, thresholds_forest = roc_curve(val_click , y_scores_forest)\n",
    "\n",
    "\n",
    "y_scores_tree = tree_ctr # score = proba of positive class\n",
    "fpr_tree, tpr_tree, thresholds_tree = roc_curve(val_click , y_scores_tree)\n",
    "\n",
    "y_scores_ada = ada_ctr # score = proba of positive class\n",
    "fpr_ada, tpr_ada, thresholds_ada = roc_curve(val_click , y_scores_ada)\n",
    "\n",
    "y_scores_voting = y_prob_voting # score = proba of positive class\n",
    "fpr_v, tpr_v, thresholds_v = roc_curve(val_click , y_scores_voting)\n"
   ]
  },
  {
   "cell_type": "code",
   "execution_count": 66,
   "metadata": {},
   "outputs": [],
   "source": [
    "def plot_roc_curve(fpr, tpr, label=None):\n",
    "    plt.plot(fpr, tpr, linewidth=2, label=label , color = 'red')\n",
    "    plt.plot([0, 1], [0, 1], 'k--')\n",
    "    plt.axis([0, 1, 0, 1])\n",
    "    plt.xlabel('False Positive Rate')\n",
    "    plt.ylabel('True Positive Rate or Recall ')\n"
   ]
  },
  {
   "cell_type": "code",
   "execution_count": 67,
   "metadata": {},
   "outputs": [
    {
     "data": {
      "image/png": "[encoded data removed]",
      "text/plain": [
       "<matplotlib.figure.Figure at 0x16e554dd8>"
      ]
     },
     "metadata": {},
     "output_type": "display_data"
    }
   ],
   "source": [
    "plot_roc_curve(fpr_log, tpr_log, \"Logistic\")\n",
    "plt.legend(loc=\"lower right\")\n",
    "plt.show()"
   ]
  },
  {
   "cell_type": "code",
   "execution_count": 54,
   "metadata": {},
   "outputs": [
    {
     "data": {
      "image/png": "[encoded data removed]",
      "text/plain": [
       "<matplotlib.figure.Figure at 0x15847b668>"
      ]
     },
     "metadata": {},
     "output_type": "display_data"
    }
   ],
   "source": [
    "plot_roc_curve(fpr_forest, tpr_forest, \"Random Forest\")\n",
    "plt.legend(loc=\"lower right\")\n",
    "plt.show()"
   ]
  },
  {
   "cell_type": "code",
   "execution_count": 55,
   "metadata": {},
   "outputs": [
    {
     "data": {
      "image/png": "[encoded data removed]",
      "text/plain": [
       "<matplotlib.figure.Figure at 0x158427438>"
      ]
     },
     "metadata": {},
     "output_type": "display_data"
    }
   ],
   "source": [
    "plot_roc_curve(fpr_tree, tpr_tree, \"Decision Tree\")\n",
    "plt.legend(loc=\"lower right\")\n",
    "plt.show()"
   ]
  },
  {
   "cell_type": "code",
   "execution_count": 56,
   "metadata": {},
   "outputs": [
    {
     "data": {
      "image/png": "[encoded data removed]",
      "text/plain": [
       "<matplotlib.figure.Figure at 0x16e5925c0>"
      ]
     },
     "metadata": {},
     "output_type": "display_data"
    }
   ],
   "source": [
    "plot_roc_curve(fpr_ada, tpr_ada, \"AdaBoost\")\n",
    "plt.legend(loc=\"lower right\")\n",
    "plt.show()"
   ]
  },
  {
   "cell_type": "code",
   "execution_count": 57,
   "metadata": {},
   "outputs": [
    {
     "data": {
      "image/png": "[encoded data removed]",
      "text/plain": [
       "<matplotlib.figure.Figure at 0x16fb2dd68>"
      ]
     },
     "metadata": {},
     "output_type": "display_data"
    }
   ],
   "source": [
    "plot_roc_curve(fpr_v, tpr_v, \"Ada Boost\")\n",
    "plt.legend(loc=\"lower right\")\n",
    "plt.show()"
   ]
  },
  {
   "cell_type": "code",
   "execution_count": 70,
   "metadata": {},
   "outputs": [],
   "source": [
    "logistic_clf.head()\n",
    "logistic_clf.to_pickle('logistic_pCTR')"
   ]
  },
  {
   "cell_type": "code",
   "execution_count": 71,
   "metadata": {},
   "outputs": [],
   "source": [
    "ada_boost.head()\n",
    "ada_boost.to_pickle('adaBoost_pCTR')"
   ]
  },
  {
   "cell_type": "code",
   "execution_count": 72,
   "metadata": {},
   "outputs": [],
   "source": [
    "random_forest.head()\n",
    "random_forest.to_pickle('random_forest_pCTR')"
   ]
  },
  {
   "cell_type": "code",
   "execution_count": 73,
   "metadata": {},
   "outputs": [],
   "source": [
    "decision_tree.head()\n",
    "decision_tree.to_pickle('decision_tree_pCTR')"
   ]
  },
  {
   "cell_type": "code",
   "execution_count": 74,
   "metadata": {},
   "outputs": [],
   "source": [
    "voting_clf.head()\n",
    "voting_clf.to_pickle('voting_clf_pCTR')"
   ]
  },
  {
   "cell_type": "code",
   "execution_count": null,
   "metadata": {},
   "outputs": [],
   "source": [
    "# Voting classifier and AdaBoosting ,Random Forest are doing quite well \n",
    "# You can pick one and test with linear pricing or any pricing \n",
    "# I will test it tmr "
   ]
  },
  {
   "cell_type": "code",
   "execution_count": 78,
   "metadata": {},
   "outputs": [
    {
     "data": {
      "text/html": [
       "<div>\n",
       "<style scoped>\n",
       "    .dataframe tbody tr th:only-of-type {\n",
       "        vertical-align: middle;\n",
       "    }\n",
       "\n",
       "    .dataframe tbody tr th {\n",
       "        vertical-align: top;\n",
       "    }\n",
       "\n",
       "    .dataframe thead th {\n",
       "        text-align: right;\n",
       "    }\n",
       "</style>\n",
       "<table border=\"1\" class=\"dataframe\">\n",
       "  <thead>\n",
       "    <tr style=\"text-align: right;\">\n",
       "      <th></th>\n",
       "      <th>pCTR</th>\n",
       "      <th>click</th>\n",
       "    </tr>\n",
       "  </thead>\n",
       "  <tbody>\n",
       "    <tr>\n",
       "      <th>0</th>\n",
       "      <td>0.459939</td>\n",
       "      <td>0</td>\n",
       "    </tr>\n",
       "    <tr>\n",
       "      <th>1</th>\n",
       "      <td>0.899055</td>\n",
       "      <td>1</td>\n",
       "    </tr>\n",
       "    <tr>\n",
       "      <th>2</th>\n",
       "      <td>0.536450</td>\n",
       "      <td>1</td>\n",
       "    </tr>\n",
       "    <tr>\n",
       "      <th>3</th>\n",
       "      <td>0.457343</td>\n",
       "      <td>0</td>\n",
       "    </tr>\n",
       "    <tr>\n",
       "      <th>4</th>\n",
       "      <td>0.485565</td>\n",
       "      <td>0</td>\n",
       "    </tr>\n",
       "  </tbody>\n",
       "</table>\n",
       "</div>"
      ],
      "text/plain": [
       "       pCTR  click\n",
       "0  0.459939      0\n",
       "1  0.899055      1\n",
       "2  0.536450      1\n",
       "3  0.457343      0\n",
       "4  0.485565      0"
      ]
     },
     "execution_count": 78,
     "metadata": {},
     "output_type": "execute_result"
    }
   ],
   "source": [
    "logistic_clf.head()"
   ]
  },
  {
   "cell_type": "code",
   "execution_count": 77,
   "metadata": {},
   "outputs": [
    {
     "data": {
      "text/html": [
       "<div>\n",
       "<style scoped>\n",
       "    .dataframe tbody tr th:only-of-type {\n",
       "        vertical-align: middle;\n",
       "    }\n",
       "\n",
       "    .dataframe tbody tr th {\n",
       "        vertical-align: top;\n",
       "    }\n",
       "\n",
       "    .dataframe thead th {\n",
       "        text-align: right;\n",
       "    }\n",
       "</style>\n",
       "<table border=\"1\" class=\"dataframe\">\n",
       "  <thead>\n",
       "    <tr style=\"text-align: right;\">\n",
       "      <th></th>\n",
       "      <th>pCTR</th>\n",
       "      <th>click</th>\n",
       "    </tr>\n",
       "  </thead>\n",
       "  <tbody>\n",
       "    <tr>\n",
       "      <th>0</th>\n",
       "      <td>0.517204</td>\n",
       "      <td>1</td>\n",
       "    </tr>\n",
       "    <tr>\n",
       "      <th>1</th>\n",
       "      <td>0.735407</td>\n",
       "      <td>1</td>\n",
       "    </tr>\n",
       "    <tr>\n",
       "      <th>2</th>\n",
       "      <td>0.491333</td>\n",
       "      <td>0</td>\n",
       "    </tr>\n",
       "    <tr>\n",
       "      <th>3</th>\n",
       "      <td>0.361643</td>\n",
       "      <td>0</td>\n",
       "    </tr>\n",
       "    <tr>\n",
       "      <th>4</th>\n",
       "      <td>0.349409</td>\n",
       "      <td>0</td>\n",
       "    </tr>\n",
       "  </tbody>\n",
       "</table>\n",
       "</div>"
      ],
      "text/plain": [
       "       pCTR  click\n",
       "0  0.517204      1\n",
       "1  0.735407      1\n",
       "2  0.491333      0\n",
       "3  0.361643      0\n",
       "4  0.349409      0"
      ]
     },
     "execution_count": 77,
     "metadata": {},
     "output_type": "execute_result"
    }
   ],
   "source": [
    "random_forest.head()"
   ]
  },
  {
   "cell_type": "code",
   "execution_count": 79,
   "metadata": {},
   "outputs": [
    {
     "data": {
      "text/html": [
       "<div>\n",
       "<style scoped>\n",
       "    .dataframe tbody tr th:only-of-type {\n",
       "        vertical-align: middle;\n",
       "    }\n",
       "\n",
       "    .dataframe tbody tr th {\n",
       "        vertical-align: top;\n",
       "    }\n",
       "\n",
       "    .dataframe thead th {\n",
       "        text-align: right;\n",
       "    }\n",
       "</style>\n",
       "<table border=\"1\" class=\"dataframe\">\n",
       "  <thead>\n",
       "    <tr style=\"text-align: right;\">\n",
       "      <th></th>\n",
       "      <th>pCTR</th>\n",
       "      <th>click</th>\n",
       "    </tr>\n",
       "  </thead>\n",
       "  <tbody>\n",
       "    <tr>\n",
       "      <th>0</th>\n",
       "      <td>0.330309</td>\n",
       "      <td>0</td>\n",
       "    </tr>\n",
       "    <tr>\n",
       "      <th>1</th>\n",
       "      <td>0.872951</td>\n",
       "      <td>1</td>\n",
       "    </tr>\n",
       "    <tr>\n",
       "      <th>2</th>\n",
       "      <td>0.357459</td>\n",
       "      <td>0</td>\n",
       "    </tr>\n",
       "    <tr>\n",
       "      <th>3</th>\n",
       "      <td>0.330309</td>\n",
       "      <td>0</td>\n",
       "    </tr>\n",
       "    <tr>\n",
       "      <th>4</th>\n",
       "      <td>0.330309</td>\n",
       "      <td>0</td>\n",
       "    </tr>\n",
       "  </tbody>\n",
       "</table>\n",
       "</div>"
      ],
      "text/plain": [
       "       pCTR  click\n",
       "0  0.330309      0\n",
       "1  0.872951      1\n",
       "2  0.357459      0\n",
       "3  0.330309      0\n",
       "4  0.330309      0"
      ]
     },
     "execution_count": 79,
     "metadata": {},
     "output_type": "execute_result"
    }
   ],
   "source": [
    "decision_tree.head()"
   ]
  },
  {
   "cell_type": "code",
   "execution_count": 76,
   "metadata": {},
   "outputs": [
    {
     "data": {
      "text/html": [
       "<div>\n",
       "<style scoped>\n",
       "    .dataframe tbody tr th:only-of-type {\n",
       "        vertical-align: middle;\n",
       "    }\n",
       "\n",
       "    .dataframe tbody tr th {\n",
       "        vertical-align: top;\n",
       "    }\n",
       "\n",
       "    .dataframe thead th {\n",
       "        text-align: right;\n",
       "    }\n",
       "</style>\n",
       "<table border=\"1\" class=\"dataframe\">\n",
       "  <thead>\n",
       "    <tr style=\"text-align: right;\">\n",
       "      <th></th>\n",
       "      <th>pCTR</th>\n",
       "      <th>click</th>\n",
       "    </tr>\n",
       "  </thead>\n",
       "  <tbody>\n",
       "    <tr>\n",
       "      <th>0</th>\n",
       "      <td>0.483467</td>\n",
       "      <td>0</td>\n",
       "    </tr>\n",
       "    <tr>\n",
       "      <th>1</th>\n",
       "      <td>0.551060</td>\n",
       "      <td>1</td>\n",
       "    </tr>\n",
       "    <tr>\n",
       "      <th>2</th>\n",
       "      <td>0.502648</td>\n",
       "      <td>1</td>\n",
       "    </tr>\n",
       "    <tr>\n",
       "      <th>3</th>\n",
       "      <td>0.483505</td>\n",
       "      <td>0</td>\n",
       "    </tr>\n",
       "    <tr>\n",
       "      <th>4</th>\n",
       "      <td>0.486244</td>\n",
       "      <td>0</td>\n",
       "    </tr>\n",
       "  </tbody>\n",
       "</table>\n",
       "</div>"
      ],
      "text/plain": [
       "       pCTR  click\n",
       "0  0.483467      0\n",
       "1  0.551060      1\n",
       "2  0.502648      1\n",
       "3  0.483505      0\n",
       "4  0.486244      0"
      ]
     },
     "execution_count": 76,
     "metadata": {},
     "output_type": "execute_result"
    }
   ],
   "source": [
    "ada_boost.head()"
   ]
  },
  {
   "cell_type": "code",
   "execution_count": null,
   "metadata": {},
   "outputs": [],
   "source": []
  }
 ],
 "metadata": {
  "kernelspec": {
   "display_name": "Python 3",
   "language": "python",
   "name": "python3"
  },
  "language_info": {
   "codemirror_mode": {
    "name": "ipython",
    "version": 3
   },
   "file_extension": ".py",
   "mimetype": "text/x-python",
   "name": "python",
   "nbconvert_exporter": "python",
   "pygments_lexer": "ipython3",
   "version": "3.6.4"
  }
 },
 "nbformat": 4,
 "nbformat_minor": 2
}
